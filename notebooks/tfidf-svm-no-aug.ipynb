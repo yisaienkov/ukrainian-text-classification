{
 "cells": [
  {
   "cell_type": "code",
   "execution_count": 4,
   "metadata": {},
   "outputs": [],
   "source": [
    "import os\n",
    "import random\n",
    "\n",
    "import numpy as np\n",
    "import pandas as pd\n",
    "import matplotlib.pyplot as plt\n",
    "import seaborn as sns\n",
    "from sklearn.feature_extraction import text as sk_text\n",
    "from sklearn import svm as sk_svm\n",
    "from sklearn import preprocessing as sk_preprocessing\n",
    "from sklearn import model_selection as sk_model_selection\n",
    "from sklearn import metrics as sk_metrics"
   ]
  },
  {
   "cell_type": "markdown",
   "metadata": {},
   "source": [
    "# Prepare data"
   ]
  },
  {
   "cell_type": "code",
   "execution_count": 5,
   "metadata": {},
   "outputs": [],
   "source": [
    "seed = 42\n",
    "\n",
    "random.seed(seed)\n",
    "os.environ[\"PYTHONHASHSEED\"] = str(seed)\n",
    "np.random.seed(seed)"
   ]
  },
  {
   "cell_type": "code",
   "execution_count": 12,
   "metadata": {},
   "outputs": [],
   "source": [
    "words = [\n",
    "    'кінь', 'зебра', 'корова', 'ведмідь', 'олень', \n",
    "    'страус', 'курка', 'пінгвін', 'сова', 'лебідь', \n",
    "    'морквина', 'яблуко', 'банан', 'картопля', 'лимон'\n",
    "]"
   ]
  },
  {
   "cell_type": "code",
   "execution_count": 13,
   "metadata": {},
   "outputs": [
    {
     "name": "stdout",
     "output_type": "stream",
     "text": [
      "(165, 3)\n"
     ]
    },
    {
     "data": {
      "text/html": [
       "<div>\n",
       "<style scoped>\n",
       "    .dataframe tbody tr th:only-of-type {\n",
       "        vertical-align: middle;\n",
       "    }\n",
       "\n",
       "    .dataframe tbody tr th {\n",
       "        vertical-align: top;\n",
       "    }\n",
       "\n",
       "    .dataframe thead th {\n",
       "        text-align: right;\n",
       "    }\n",
       "</style>\n",
       "<table border=\"1\" class=\"dataframe\">\n",
       "  <thead>\n",
       "    <tr style=\"text-align: right;\">\n",
       "      <th></th>\n",
       "      <th>user</th>\n",
       "      <th>word</th>\n",
       "      <th>description</th>\n",
       "    </tr>\n",
       "  </thead>\n",
       "  <tbody>\n",
       "    <tr>\n",
       "      <th>0</th>\n",
       "      <td>4</td>\n",
       "      <td>кінь</td>\n",
       "      <td>Парнокопитна тварина, яка була однією з перших...</td>\n",
       "    </tr>\n",
       "    <tr>\n",
       "      <th>1</th>\n",
       "      <td>4</td>\n",
       "      <td>зебра</td>\n",
       "      <td>африканська тварина, зовнішній вигляд якої наг...</td>\n",
       "    </tr>\n",
       "    <tr>\n",
       "      <th>2</th>\n",
       "      <td>4</td>\n",
       "      <td>корова</td>\n",
       "      <td>вид парнокопитної худоби, основне використання...</td>\n",
       "    </tr>\n",
       "    <tr>\n",
       "      <th>3</th>\n",
       "      <td>4</td>\n",
       "      <td>ведмідь</td>\n",
       "      <td>всеїдна велика тварина, яка має дуже сильний т...</td>\n",
       "    </tr>\n",
       "    <tr>\n",
       "      <th>4</th>\n",
       "      <td>4</td>\n",
       "      <td>олень</td>\n",
       "      <td>парнокопитна дика тварина, яка зазвичай прожив...</td>\n",
       "    </tr>\n",
       "  </tbody>\n",
       "</table>\n",
       "</div>"
      ],
      "text/plain": [
       "   user     word                                        description\n",
       "0     4     кінь  Парнокопитна тварина, яка була однією з перших...\n",
       "1     4    зебра  африканська тварина, зовнішній вигляд якої наг...\n",
       "2     4   корова  вид парнокопитної худоби, основне використання...\n",
       "3     4  ведмідь  всеїдна велика тварина, яка має дуже сильний т...\n",
       "4     4    олень  парнокопитна дика тварина, яка зазвичай прожив..."
      ]
     },
     "execution_count": 13,
     "metadata": {},
     "output_type": "execute_result"
    }
   ],
   "source": [
    "data = pd.read_csv('../resources/data/index.csv', index_col=0)\n",
    "print(data.shape)\n",
    "data.head()"
   ]
  },
  {
   "cell_type": "code",
   "execution_count": 14,
   "metadata": {},
   "outputs": [],
   "source": [
    "# data_aug = pd.read_csv('../resources/data/data_augment_ua_en_cn_en_ua.csv', index_col=0)\n",
    "# data_aug['augment'] = 'ua_en_cn_en_ua'\n",
    "# print(data_aug.shape)\n",
    "# data_aug.head()\n",
    "# data = pd.concat([data, data_aug])\n",
    "# print(data.shape)"
   ]
  },
  {
   "cell_type": "code",
   "execution_count": 15,
   "metadata": {},
   "outputs": [],
   "source": [
    "data['description'] = data['description'].str.lower()\n",
    "data['description'] = data['description'].str.replace(\"’\", \"'\")\n",
    "# data['descr'] = data['descr'].str.replace(\"'\", '')"
   ]
  },
  {
   "cell_type": "code",
   "execution_count": 16,
   "metadata": {},
   "outputs": [],
   "source": [
    "train_data = data[data['user'] <= 7].copy()\n",
    "test_data = data[data['user'] > 7].copy()"
   ]
  },
  {
   "cell_type": "code",
   "execution_count": 19,
   "metadata": {},
   "outputs": [],
   "source": [
    "feature_extraction = sk_text.TfidfVectorizer()\n",
    "\n",
    "def get_X_y(data, train=True):\n",
    "    if train:\n",
    "        X = feature_extraction.fit_transform(\n",
    "            data[\"description\"].values\n",
    "        )\n",
    "    else:\n",
    "        X = feature_extraction.transform(\n",
    "            data[\"description\"].values\n",
    "        )\n",
    "    X = X.toarray()\n",
    "    y = data['word'].apply(lambda x: words.index(x))\n",
    "    return X, y"
   ]
  },
  {
   "cell_type": "code",
   "execution_count": 20,
   "metadata": {},
   "outputs": [],
   "source": [
    "X_train, y_train = get_X_y(train_data, 1)\n",
    "X_test, y_test = get_X_y(test_data, 0)"
   ]
  },
  {
   "cell_type": "code",
   "execution_count": 21,
   "metadata": {},
   "outputs": [
    {
     "data": {
      "text/plain": [
       "((105, 570), (105,), (60, 570), (60,))"
      ]
     },
     "execution_count": 21,
     "metadata": {},
     "output_type": "execute_result"
    }
   ],
   "source": [
    "X_train.shape, y_train.shape, X_test.shape, y_test.shape"
   ]
  },
  {
   "cell_type": "markdown",
   "metadata": {},
   "source": [
    "# Model selection"
   ]
  },
  {
   "cell_type": "code",
   "execution_count": 22,
   "metadata": {},
   "outputs": [],
   "source": [
    "params_linear = {\n",
    "    'C': [0.01, 0.1, 1.],\n",
    "}\n",
    "params_poly = {\n",
    "    'C': [0.01, 0.1, 1.],\n",
    "    'degree': [2, 3],\n",
    "    'gamma': ['scale', 'auto'],\n",
    "}\n",
    "params_rbf = {\n",
    "    'C': [0.01, 0.1, 1.],\n",
    "    'gamma': ['scale', 'auto'],\n",
    "}\n",
    "params_sigmoid = {\n",
    "    'C': [0.01, 0.1, 1.],\n",
    "    'gamma': ['scale', 'auto'],\n",
    "}"
   ]
  },
  {
   "cell_type": "code",
   "execution_count": 35,
   "metadata": {},
   "outputs": [],
   "source": [
    "def cv_model(name, model, params, X_train, y_train, X_test, y_test):\n",
    "    cv_model = sk_model_selection.GridSearchCV(\n",
    "        model, \n",
    "        params, \n",
    "        cv=3,\n",
    "        scoring='accuracy',\n",
    "    )\n",
    "    cv_model.fit(X_train, y_train)\n",
    "    print(cv_model.best_params_)\n",
    "    print(name, sk_metrics.accuracy_score(y_test, cv_model.predict(X_test)))\n",
    "\n",
    "def create_models(X_train, y_train, X_test, y_test):\n",
    "    linear_svc_model = sk_svm.SVC(\n",
    "        kernel='linear', \n",
    "        random_state=seed\n",
    "    )\n",
    "    cv_model('linear', linear_svc_model, params_linear, X_train, y_train, X_test, y_test)\n",
    "    \n",
    "    poly_svc_model = sk_svm.SVC(\n",
    "        kernel='poly', \n",
    "        random_state=seed\n",
    "    )\n",
    "    cv_model('poly', poly_svc_model, params_poly, X_train, y_train, X_test, y_test)\n",
    "    \n",
    "    rbf_svc_model = sk_svm.SVC(\n",
    "        kernel='rbf', \n",
    "        random_state=seed\n",
    "    )\n",
    "    cv_model('rbf', rbf_svc_model, params_rbf, X_train, y_train, X_test, y_test)\n",
    "    \n",
    "    sigmoid_svc_model = sk_svm.SVC(\n",
    "        kernel='sigmoid', \n",
    "        random_state=seed\n",
    "    )\n",
    "    cv_model('sigmoid', sigmoid_svc_model, params_sigmoid, X_train, y_train, X_test, y_test)"
   ]
  },
  {
   "cell_type": "code",
   "execution_count": 36,
   "metadata": {},
   "outputs": [
    {
     "name": "stdout",
     "output_type": "stream",
     "text": [
      "{'C': 1.0}\n",
      "linear 0.7833333333333333\n",
      "{'C': 1.0, 'degree': 2, 'gamma': 'scale'}\n",
      "poly 0.8\n",
      "{'C': 0.01, 'gamma': 'auto'}\n",
      "rbf 0.7833333333333333\n",
      "{'C': 1.0, 'gamma': 'scale'}\n",
      "sigmoid 0.7666666666666667\n"
     ]
    }
   ],
   "source": [
    "create_models(X_train, y_train, X_test, y_test)"
   ]
  },
  {
   "cell_type": "code",
   "execution_count": 40,
   "metadata": {},
   "outputs": [
    {
     "data": {
      "text/plain": [
       "0.8"
      ]
     },
     "execution_count": 40,
     "metadata": {},
     "output_type": "execute_result"
    }
   ],
   "source": [
    "model = sk_svm.SVC(\n",
    "    kernel='poly', \n",
    "    C=1.0, \n",
    "    degree=2, \n",
    "    gamma='scale', \n",
    "    probability=True,\n",
    "    random_state=seed,\n",
    ")\n",
    "model.fit(X_train, y_train)\n",
    "predictions = model.predict(X_test)\n",
    "sk_metrics.accuracy_score(y_test, predictions)"
   ]
  },
  {
   "cell_type": "code",
   "execution_count": 41,
   "metadata": {},
   "outputs": [
    {
     "data": {
      "text/plain": [
       "array([ 0,  1,  2,  3,  4,  5,  6,  7,  8,  9, 10, 11, 12, 13, 14,  0,  1,\n",
       "        2,  3,  4,  5,  6,  7,  8,  9, 10, 11, 12, 13, 14,  0,  1,  2,  3,\n",
       "        4,  5,  6,  7,  8,  9, 10, 11, 12, 13, 14,  0,  1,  2,  3,  4,  5,\n",
       "        6,  7,  8,  9, 10, 11, 12, 13, 14], dtype=int64)"
      ]
     },
     "execution_count": 41,
     "metadata": {},
     "output_type": "execute_result"
    }
   ],
   "source": [
    "y_test.values"
   ]
  },
  {
   "cell_type": "code",
   "execution_count": 42,
   "metadata": {},
   "outputs": [
    {
     "data": {
      "text/plain": [
       "array([ 0,  1,  3, 13, 13,  5,  6,  7,  8,  9, 10, 11, 10, 10, 12,  0,  1,\n",
       "        2,  3,  4,  5,  6,  1,  8,  9, 10, 11, 12, 10, 14,  0,  1,  0,  3,\n",
       "        4,  5,  6,  7,  8,  9, 10, 11, 12, 13, 14,  0,  1,  2,  5,  4,  6,\n",
       "        6,  7,  8,  5, 10, 11, 12, 13, 14], dtype=int64)"
      ]
     },
     "execution_count": 42,
     "metadata": {},
     "output_type": "execute_result"
    }
   ],
   "source": [
    "predictions"
   ]
  },
  {
   "cell_type": "code",
   "execution_count": 43,
   "metadata": {},
   "outputs": [],
   "source": [
    "m = sk_metrics.confusion_matrix(y_test, predictions)"
   ]
  },
  {
   "cell_type": "code",
   "execution_count": 45,
   "metadata": {},
   "outputs": [
    {
     "data": {
      "image/png": "[encoded data removed]",
      "text/plain": [
       "<Figure size 576x576 with 1 Axes>"
      ]
     },
     "metadata": {
      "needs_background": "light"
     },
     "output_type": "display_data"
    }
   ],
   "source": [
    "df_cm = pd.DataFrame(m, index=words, columns=words)\n",
    "plt.figure(figsize=(8, 8))\n",
    "sns.heatmap(df_cm, annot=True, cbar=False, cmap='Oranges')\n",
    "plt.xlabel('True labels', fontsize=16)\n",
    "plt.xticks(fontsize=15)\n",
    "plt.ylabel('Predicted labels', fontsize=16)\n",
    "plt.yticks(fontsize=15);"
   ]
  },
  {
   "cell_type": "code",
   "execution_count": 46,
   "metadata": {},
   "outputs": [
    {
     "data": {
      "text/plain": [
       "[[17, 1, 2], [1, 19, 0], [0, 0, 20]]"
      ]
     },
     "execution_count": 46,
     "metadata": {},
     "output_type": "execute_result"
    }
   ],
   "source": [
    "mm = []\n",
    "for i in range(3):\n",
    "    mm.append([])\n",
    "    for j in range(3):\n",
    "        mm[-1].append(np.sum(m[5*i:5*(i+1), 5*j:5*(j+1)]))\n",
    "mm"
   ]
  },
  {
   "cell_type": "code",
   "execution_count": 48,
   "metadata": {},
   "outputs": [
    {
     "data": {
      "text/plain": [
       "(array([0.5, 1.5, 2.5]),\n",
       " [Text(0, 0.5, 'Тварини'), Text(0, 1.5, 'Птахи'), Text(0, 2.5, 'Їжа')])"
      ]
     },
     "execution_count": 48,
     "metadata": {},
     "output_type": "execute_result"
    },
    {
     "data": {
      "image/png": "[encoded data removed]",
      "text/plain": [
       "<Figure size 288x288 with 1 Axes>"
      ]
     },
     "metadata": {
      "needs_background": "light"
     },
     "output_type": "display_data"
    }
   ],
   "source": [
    "q = pd.DataFrame(mm, index = ['Тварини', 'Птахи', 'Їжа'], columns = ['Тварини', 'Птахи', 'Їжа'])\n",
    "plt.figure(figsize = (4,4))\n",
    "sns.heatmap(q, annot=True, cbar=False, cmap='Oranges', annot_kws={\"size\": 16})\n",
    "plt.xlabel('True labels', fontsize=16)\n",
    "plt.xticks(fontsize=15)\n",
    "plt.ylabel('Predicted labels', fontsize=16)\n",
    "plt.yticks(fontsize=15)"
   ]
  },
  {
   "cell_type": "code",
   "execution_count": 49,
   "metadata": {},
   "outputs": [],
   "source": [
    "test_data['pred'] = predictions\n",
    "test_data['real'] = y_test"
   ]
  },
  {
   "cell_type": "code",
   "execution_count": 51,
   "metadata": {},
   "outputs": [
    {
     "name": "stdout",
     "output_type": "stream",
     "text": [
      "велика, рогата худоба. | корова | ведмідь\n",
      "впадає в сплячку взимку, любить мед. | ведмідь | картопля\n",
      "цим звіром нарікають людей, які чогось не розуміють. | олень | картопля\n",
      "подовгуватий фрукт, який їдять в очищеному вигляді, без шкірки. | банан | морквина\n",
      "овоч, який споживають більшість людей, особливо в смаженому вигляді. | картопля | морквина\n",
      "жовтий, овальний на вигляд фрукт. | лимон | банан\n",
      "чорно-біла птиця, живе на південному полюсі | пінгвін | зебра\n",
      "традиційний овоч білорусії | картопля | морквина\n",
      "велика тварина, яку тримають для отримання молока. має біле забарвлення з чорними плямами. | корова | кінь\n",
      "великий хижий ссавець тварина з довгою шерстю і товстими ногами. | ведмідь | страус\n",
      "найбільший бігучий (нелетючий) птах жарких країн з красивим оперенням. | страус | курка\n",
      "велика водоплавна птиця з довгою зігнутою шиєю. | лебідь | страус\n"
     ]
    }
   ],
   "source": [
    "no_ok = test_data[test_data['pred'] != test_data['real']]\n",
    "for i in range(no_ok.shape[0]):\n",
    "    print(no_ok.iloc[i]['description'], '|', no_ok.iloc[i]['word'], '|', words[no_ok.iloc[i]['pred']])"
   ]
  },
  {
   "cell_type": "code",
   "execution_count": 26,
   "metadata": {},
   "outputs": [],
   "source": [
    "# import pickle\n",
    "\n",
    "# pickle.dump(feature_extraction, open('../resources/models/tfidf_model', 'wb'))\n",
    "# pickle.dump(model, open('../resources/models/svc_model', 'wb'))"
   ]
  },
  {
   "cell_type": "code",
   "execution_count": null,
   "metadata": {},
   "outputs": [],
   "source": []
  }
 ],
 "metadata": {
  "kernelspec": {
   "display_name": "Python 3",
   "language": "python",
   "name": "python3"
  },
  "language_info": {
   "codemirror_mode": {
    "name": "ipython",
    "version": 3
   },
   "file_extension": ".py",
   "mimetype": "text/x-python",
   "name": "python",
   "nbconvert_exporter": "python",
   "pygments_lexer": "ipython3",
   "version": "3.7.5"
  }
 },
 "nbformat": 4,
 "nbformat_minor": 4
}
