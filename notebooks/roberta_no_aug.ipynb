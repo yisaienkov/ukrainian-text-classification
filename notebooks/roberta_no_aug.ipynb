{
  "nbformat": 4,
  "nbformat_minor": 0,
  "metadata": {
    "colab": {
      "name": "roberta-no-aug",
      "provenance": [],
      "collapsed_sections": []
    },
    "kernelspec": {
      "name": "python3",
      "display_name": "Python 3"
    },
    "accelerator": "GPU"
  },
  "cells": [
    {
      "cell_type": "code",
      "metadata": {
        "id": "JdKi06ktGDcZ",
        "outputId": "8ec3453d-7eb2-4587-c9e8-a20285e9e1e6",
        "colab": {
          "base_uri": "https://localhost:8080/",
          "height": 595
        }
      },
      "source": [
        "!pip install transformers"
      ],
      "execution_count": 2,
      "outputs": [
        {
          "output_type": "stream",
          "text": [
            "Collecting transformers\n",
            "\u001b[?25l  Downloading https://files.pythonhosted.org/packages/19/22/aff234f4a841f8999e68a7a94bdd4b60b4cebcfeca5d67d61cd08c9179de/transformers-3.3.1-py3-none-any.whl (1.1MB)\n",
            "\u001b[K     |████████████████████████████████| 1.1MB 6.6MB/s \n",
            "\u001b[?25hRequirement already satisfied: numpy in /usr/local/lib/python3.6/dist-packages (from transformers) (1.18.5)\n",
            "Requirement already satisfied: packaging in /usr/local/lib/python3.6/dist-packages (from transformers) (20.4)\n",
            "Collecting sacremoses\n",
            "\u001b[?25l  Downloading https://files.pythonhosted.org/packages/7d/34/09d19aff26edcc8eb2a01bed8e98f13a1537005d31e95233fd48216eed10/sacremoses-0.0.43.tar.gz (883kB)\n",
            "\u001b[K     |████████████████████████████████| 890kB 37.4MB/s \n",
            "\u001b[?25hRequirement already satisfied: dataclasses; python_version < \"3.7\" in /usr/local/lib/python3.6/dist-packages (from transformers) (0.7)\n",
            "Requirement already satisfied: filelock in /usr/local/lib/python3.6/dist-packages (from transformers) (3.0.12)\n",
            "Requirement already satisfied: tqdm>=4.27 in /usr/local/lib/python3.6/dist-packages (from transformers) (4.41.1)\n",
            "Requirement already satisfied: regex!=2019.12.17 in /usr/local/lib/python3.6/dist-packages (from transformers) (2019.12.20)\n",
            "Collecting tokenizers==0.8.1.rc2\n",
            "\u001b[?25l  Downloading https://files.pythonhosted.org/packages/80/83/8b9fccb9e48eeb575ee19179e2bdde0ee9a1904f97de5f02d19016b8804f/tokenizers-0.8.1rc2-cp36-cp36m-manylinux1_x86_64.whl (3.0MB)\n",
            "\u001b[K     |████████████████████████████████| 3.0MB 51.2MB/s \n",
            "\u001b[?25hRequirement already satisfied: requests in /usr/local/lib/python3.6/dist-packages (from transformers) (2.23.0)\n",
            "Collecting sentencepiece!=0.1.92\n",
            "\u001b[?25l  Downloading https://files.pythonhosted.org/packages/d4/a4/d0a884c4300004a78cca907a6ff9a5e9fe4f090f5d95ab341c53d28cbc58/sentencepiece-0.1.91-cp36-cp36m-manylinux1_x86_64.whl (1.1MB)\n",
            "\u001b[K     |████████████████████████████████| 1.1MB 51.5MB/s \n",
            "\u001b[?25hRequirement already satisfied: six in /usr/local/lib/python3.6/dist-packages (from packaging->transformers) (1.15.0)\n",
            "Requirement already satisfied: pyparsing>=2.0.2 in /usr/local/lib/python3.6/dist-packages (from packaging->transformers) (2.4.7)\n",
            "Requirement already satisfied: click in /usr/local/lib/python3.6/dist-packages (from sacremoses->transformers) (7.1.2)\n",
            "Requirement already satisfied: joblib in /usr/local/lib/python3.6/dist-packages (from sacremoses->transformers) (0.16.0)\n",
            "Requirement already satisfied: certifi>=2017.4.17 in /usr/local/lib/python3.6/dist-packages (from requests->transformers) (2020.6.20)\n",
            "Requirement already satisfied: idna<3,>=2.5 in /usr/local/lib/python3.6/dist-packages (from requests->transformers) (2.10)\n",
            "Requirement already satisfied: chardet<4,>=3.0.2 in /usr/local/lib/python3.6/dist-packages (from requests->transformers) (3.0.4)\n",
            "Requirement already satisfied: urllib3!=1.25.0,!=1.25.1,<1.26,>=1.21.1 in /usr/local/lib/python3.6/dist-packages (from requests->transformers) (1.24.3)\n",
            "Building wheels for collected packages: sacremoses\n",
            "  Building wheel for sacremoses (setup.py) ... \u001b[?25l\u001b[?25hdone\n",
            "  Created wheel for sacremoses: filename=sacremoses-0.0.43-cp36-none-any.whl size=893257 sha256=808f1a93f63ff7a4ed3ab371db94173ebd3fbb6390a120e985760de5a86f47c9\n",
            "  Stored in directory: /root/.cache/pip/wheels/29/3c/fd/7ce5c3f0666dab31a50123635e6fb5e19ceb42ce38d4e58f45\n",
            "Successfully built sacremoses\n",
            "Installing collected packages: sacremoses, tokenizers, sentencepiece, transformers\n",
            "Successfully installed sacremoses-0.0.43 sentencepiece-0.1.91 tokenizers-0.8.1rc2 transformers-3.3.1\n"
          ],
          "name": "stdout"
        }
      ]
    },
    {
      "cell_type": "code",
      "metadata": {
        "id": "pSqzgtCgu_PP"
      },
      "source": [
        "import numpy as np\n",
        "import pandas as pd\n",
        "from transformers import AutoTokenizer, AutoModel, pipeline\n",
        "import torch\n",
        "from sklearn import metrics\n",
        "import matplotlib.pyplot as plt\n",
        "import seaborn as sn"
      ],
      "execution_count": 3,
      "outputs": []
    },
    {
      "cell_type": "code",
      "metadata": {
        "id": "4wxWIF3svEa5"
      },
      "source": [
        "def load_model():\n",
        "    tokenizer = AutoTokenizer.from_pretrained('youscan/ukr-roberta-base')\n",
        "    model = AutoModel.from_pretrained('youscan/ukr-roberta-base')\n",
        "    return tokenizer, model"
      ],
      "execution_count": 4,
      "outputs": []
    },
    {
      "cell_type": "code",
      "metadata": {
        "id": "68zfQ2ee6uMG"
      },
      "source": [
        "def load_data(experiment=1):\n",
        "    data = pd.read_csv('index.csv', index_col=0)\n",
        "    if experiment == 2:\n",
        "        x = pd.read_csv('index_aug_ua_en.csv', index_col=0)\n",
        "        data = pd.concat([data, x]).reset_index(drop=True)\n",
        "    elif experiment == 3:\n",
        "        x = pd.read_csv('index_aug_ua_en_zh.csv', index_col=0)\n",
        "        data = pd.concat([data, x]).reset_index(drop=True)\n",
        "\n",
        "    data['description'] = data['description'].str.lower()\n",
        "    data['description'] = data['description'].str.replace(\"’\", \"'\")\n",
        "\n",
        "    return data"
      ],
      "execution_count": 18,
      "outputs": []
    },
    {
      "cell_type": "code",
      "metadata": {
        "id": "dBE5j7nx62Jj"
      },
      "source": [
        "def train_test_split(data):\n",
        "    train_data = data[data['user'] <= 7].copy()\n",
        "    test_data = data[data['user'] > 7].copy()\n",
        "    return train_data, test_data"
      ],
      "execution_count": 19,
      "outputs": []
    },
    {
      "cell_type": "code",
      "metadata": {
        "id": "vXaLpgsm3eKH"
      },
      "source": [
        "def model_embedding(text, tokenizer, model):\n",
        "    input_ids = tokenizer(text, return_tensors=\"pt\")[\"input_ids\"]\n",
        "    outputs = model(input_ids, output_hidden_states=True)\n",
        "    emb = outputs[2]\n",
        "    emb = np.array([i[0].detach().numpy() for i in emb])[:]\n",
        "    emb = emb.mean(axis=(0, 1))\n",
        "    return emb"
      ],
      "execution_count": 20,
      "outputs": []
    },
    {
      "cell_type": "code",
      "metadata": {
        "id": "lRNmN3Oz7fJE"
      },
      "source": [
        "tokenizer, model = load_model()\n",
        "data = load_data(experiment=1)\n",
        "train_data, test_data = train_test_split(data)"
      ],
      "execution_count": 21,
      "outputs": []
    },
    {
      "cell_type": "code",
      "metadata": {
        "id": "4Sdk5ZWK3-Y0"
      },
      "source": [
        "labels_list = train_data['word'].values\n",
        "descriptions_list = train_data['description'].values\n",
        "embeddings_list = {}"
      ],
      "execution_count": 23,
      "outputs": []
    },
    {
      "cell_type": "code",
      "metadata": {
        "id": "87ksgArp4CFc"
      },
      "source": [
        "for l, d in zip(labels_list, descriptions_list):\n",
        "    tmp = embeddings_list.get(l, [])\n",
        "    tmp.append(model_embedding(d, tokenizer, model))\n",
        "    embeddings_list[l] = tmp"
      ],
      "execution_count": 24,
      "outputs": []
    },
    {
      "cell_type": "code",
      "metadata": {
        "id": "faF-a1zU_NWm"
      },
      "source": [
        "for l, r in embeddings_list.items():\n",
        "    embeddings_list[l] = np.mean(r, axis=0)"
      ],
      "execution_count": 25,
      "outputs": []
    },
    {
      "cell_type": "code",
      "metadata": {
        "id": "2o6fVyVK3-cF"
      },
      "source": [
        "test_labels_list = test_data['word'].values\n",
        "test_descriptions_list = test_data['description'].values"
      ],
      "execution_count": 26,
      "outputs": []
    },
    {
      "cell_type": "code",
      "metadata": {
        "id": "1INtPRcL4d4j"
      },
      "source": [
        "def distance(a, b):\n",
        "  return sum([(i - j) ** 2 for i, j in zip(a, b)]) ** .5"
      ],
      "execution_count": 27,
      "outputs": []
    },
    {
      "cell_type": "code",
      "metadata": {
        "id": "svGRNgh44f9q",
        "outputId": "f06a52e8-50e5-4946-def9-815139976774",
        "colab": {
          "base_uri": "https://localhost:8080/",
          "height": 1000
        }
      },
      "source": [
        "t = 0\n",
        "pred_labels = []\n",
        "for ind in range(len(test_descriptions_list)):\n",
        "\n",
        "    label = test_labels_list[ind]\n",
        "    descr = test_descriptions_list[ind]\n",
        "    print(f'LABEL {label}\\tDESCR: {descr}')\n",
        "\n",
        "    test_emb = model_embedding(descr, tokenizer, model)\n",
        "\n",
        "    scores = list((distance(el, test_emb), k) for k, el in embeddings_list.items())\n",
        "    sorted_scores = sorted(scores, key=lambda x: x[0])\n",
        "    best_preds = sorted_scores[0][1]\n",
        "    print(label, best_preds)\n",
        "    pred_labels.append(best_preds)\n",
        "    if label == best_preds:\n",
        "        t += 1\n",
        "print(t / len(test_descriptions_list))"
      ],
      "execution_count": 29,
      "outputs": [
        {
          "output_type": "stream",
          "text": [
            "LABEL кінь\tDESCR: тварина, яку запрягають у віз, її силу прирівнюють до одиниць вимірювання міцності автомобілів.\n",
            "кінь кінь\n",
            "LABEL зебра\tDESCR: тварина, яка має гриву, але не кінь.\n",
            "зебра кінь\n",
            "LABEL корова\tDESCR: велика, рогата худоба.\n",
            "корова олень\n",
            "LABEL ведмідь\tDESCR: впадає в сплячку взимку, любить мед.\n",
            "ведмідь морквина\n",
            "LABEL олень\tDESCR: цим звіром нарікають людей, які чогось не розуміють.\n",
            "олень пінгвін\n",
            "LABEL страус\tDESCR: птах, який ховає голову в пісок.\n",
            "страус страус\n",
            "LABEL курка\tDESCR: домашня птиця, літає погано і недалеко.\n",
            "курка курка\n",
            "LABEL пінгвін\tDESCR: птах, який живе на північному полюсі, темно синього кольору з білим животом.\n",
            "пінгвін пінгвін\n",
            "LABEL сова\tDESCR: птах, полює на дрібних гризунів, переважно вночі.\n",
            "сова сова\n",
            "LABEL лебідь\tDESCR: красивий, білий птах, переважно перебуває у воді.\n",
            "лебідь сова\n",
            "LABEL морквина\tDESCR: овоч, який дуже полюбляють зайці, конусної форми.\n",
            "морквина морквина\n",
            "LABEL яблуко\tDESCR: кислий, солодкий із кісточками всередині, корисно їсти зі шкіркою.\n",
            "яблуко лимон\n",
            "LABEL банан\tDESCR: подовгуватий фрукт, який їдять в очищеному вигляді, без шкірки.\n",
            "банан картопля\n",
            "LABEL картопля\tDESCR: овоч, який споживають більшість людей, особливо в смаженому вигляді.\n",
            "картопля картопля\n",
            "LABEL лимон\tDESCR: жовтий, овальний на вигляд фрукт.\n",
            "лимон банан\n",
            "LABEL кінь\tDESCR: парнокопитна тварина, одомашнена, допомагала людям в господарстві а також служила для швидшого пересування до винайдення машин\n",
            "кінь кінь\n",
            "LABEL зебра\tDESCR: парнокопитна тварина, дика, має чорно-білі смуги\n",
            "зебра зебра\n",
            "LABEL корова\tDESCR: парнокопитна, рогата, велика, тварина, одомашнена, дає молоко\n",
            "корова корова\n",
            "LABEL ведмідь\tDESCR: дика всеїдна тварина, може жити в лісі і мати коричневе хутро або на північному полюсі і мат біле хутро\n",
            "ведмідь ведмідь\n",
            "LABEL олень\tDESCR: парнокопитна дика тварина, має унікальні великі красиві роги які скидає раз на рік, використовує їх для битви з іншими самцями свого виду\n",
            "олень олень\n",
            "LABEL страус\tDESCR: ховає голову в пісок\n",
            "страус кінь\n",
            "LABEL курка\tDESCR: домашня птиця, несе яйця\n",
            "курка курка\n",
            "LABEL пінгвін\tDESCR: чорно-біла птиця, живе на південному полюсі\n",
            "пінгвін зебра\n",
            "LABEL сова\tDESCR: дика хижа нічна птиця, може повертати голову на 360 градусів, полює на мишей та інших мілких тваринок\n",
            "сова сова\n",
            "LABEL лебідь\tDESCR: зазвичай біла птиця, з довгою шиєю, часто ж символом кохання\n",
            "лебідь лебідь\n",
            "LABEL морквина\tDESCR: овоч помаранчевого кольору, довгий, росте в землі\n",
            "морквина морквина\n",
            "LABEL яблуко\tDESCR: фрукт, росте на деревах, дозріває вкінці літа, популярний сорт цього фрукта голден\n",
            "яблуко картопля\n",
            "LABEL банан\tDESCR: жовтий довгий фрукт, привозиться з теплих країн\n",
            "банан банан\n",
            "LABEL картопля\tDESCR: традиційний овоч білорусії\n",
            "картопля морквина\n",
            "LABEL лимон\tDESCR: кислий фрукт, жовтий, невеликого розміру\n",
            "лимон лимон\n",
            "LABEL кінь\tDESCR: тварина яку використовують для пересування. на нього одягають сідло або запрягають в карету.\n",
            "кінь кінь\n",
            "LABEL зебра\tDESCR: тварина яке схоже на коня, але має білі і чорні смужки. часто можна побачити в зоопарку.\n",
            "зебра зебра\n",
            "LABEL корова\tDESCR: велика тварина, яку тримають для отримання молока. має біле забарвлення з чорними плямами.\n",
            "корова зебра\n",
            "LABEL ведмідь\tDESCR: велика небезпечна тварина, що живе в лісі. любить мед.\n",
            "ведмідь ведмідь\n",
            "LABEL олень\tDESCR: тварина, мешкає в лісі, має гарні великі роги.\n",
            "олень олень\n",
            "LABEL страус\tDESCR: великий птах, що не вміє літати, але може швидко бігати. часто можна бачити в зоопарку.\n",
            "страус сова\n",
            "LABEL курка\tDESCR: птах який тримають на фермі для виробництва яєць і м'яса.\n",
            "курка курка\n",
            "LABEL пінгвін\tDESCR: птах що не вміє літати. має чорно-біле забарвлення. живе в холодному кліматі.\n",
            "пінгвін пінгвін\n",
            "LABEL сова\tDESCR: птах що живе в лісі. спить днем, вночі полює.\n",
            "сова пінгвін\n",
            "LABEL лебідь\tDESCR: красивий птах білого кольору. має довгу шию. часто можна бачити в зоопарку.\n",
            "лебідь зебра\n",
            "LABEL морквина\tDESCR: довгий овоч помаранчевого кольору. зростає в землі. його люблять зайчики.\n",
            "морквина морквина\n",
            "LABEL яблуко\tDESCR: один з найвідоміших фруктів. зростає на деревах. зазвичай червоного або зеленого кольору.\n",
            "яблуко яблуко\n",
            "LABEL банан\tDESCR: довгий фрукт жовтого кольору, який дуже люблять мавпи. має шкірку.\n",
            "банан банан\n",
            "LABEL картопля\tDESCR: овоч, що росте в землі. коричневого кольору. з нього роблять пюре.\n",
            "картопля картопля\n",
            "LABEL лимон\tDESCR: цитрус, жовтого кольору. кислий і містить багато вітамін. часто додають в чай.\n",
            "лимон лимон\n",
            "LABEL кінь\tDESCR: тварина, супутник людини, засіб пересування і тяглова сила і помічник в сільгосп роботах і грізна військова сила\n",
            "кінь кінь\n",
            "LABEL зебра\tDESCR: дикий африканський смугастий (чорний, зі світло-жовтим) кінь.\n",
            "зебра зебра\n",
            "LABEL корова\tDESCR: домашня молочна тварина, самка великої рогатої худоби, а також деяких інших рогатих тварин\n",
            "корова корова\n",
            "LABEL ведмідь\tDESCR: великий хижий ссавець тварина з довгою шерстю і товстими ногами.\n",
            "ведмідь ведмідь\n",
            "LABEL олень\tDESCR: жуйний парнокопитний ссавець з гіллястими рогами.\n",
            "олень олень\n",
            "LABEL страус\tDESCR: найбільший бігучий (нелетючий) птах жарких країн з красивим оперенням.\n",
            "страус сова\n",
            "LABEL курка\tDESCR: домашня птиця, самка півня.\n",
            "курка курка\n",
            "LABEL пінгвін\tDESCR: південна полярна птиця з короткими крилами яка вміє плавати, але не літає.\n",
            "пінгвін пінгвін\n",
            "LABEL сова\tDESCR: хижий нічний птах з великими очима і гачкуватим дзьобом\n",
            "сова сова\n",
            "LABEL лебідь\tDESCR: велика водоплавна птиця з довгою зігнутою шиєю.\n",
            "лебідь страус\n",
            "LABEL морквина\tDESCR: городня рослина, овоч з їстівним солодкуватим помаранчевим потовщеним коренем.\n",
            "морквина морквина\n",
            "LABEL яблуко\tDESCR: соковитий плід, який вживається в їжу в свіжому вигляді, є сировиною в кулінарії і для приготування напоїв.\n",
            "яблуко картопля\n",
            "LABEL банан\tDESCR: фрукт з шкіркою. колір шкірки може бути: жовтий, червоний, зелений або сріблястий. що стосується м'якоті, то її забарвлення може бути білий, жовтий, кремовий або помаранчевий\n",
            "банан яблуко\n",
            "LABEL картопля\tDESCR: рід овоча, рослина з їстівними бульбами, багатими крохмалем\n",
            "картопля картопля\n",
            "LABEL лимон\tDESCR: ароматний цитрус з твердою шкіркою і кислої на смак м'якоттю.\n",
            "лимон лимон\n",
            "0.6666666666666666\n"
          ],
          "name": "stdout"
        }
      ]
    },
    {
      "cell_type": "code",
      "metadata": {
        "id": "aR95_PTLTwII",
        "outputId": "e0ea80c1-26bc-4655-a6cc-f58b9e02bbec",
        "colab": {
          "base_uri": "https://localhost:8080/",
          "height": 569
        }
      },
      "source": [
        "words = [\n",
        "    'кінь', 'зебра', 'корова', 'ведмідь', 'олень', \n",
        "    'страус', 'курка', 'пінгвін', 'сова', 'лебідь', \n",
        "    'морквина', 'яблуко', 'банан', 'картопля', 'лимон'\n",
        "]\n",
        "m = metrics.confusion_matrix(test_labels_list, pred_labels, words)\n",
        "df_cm = pd.DataFrame(m, index=words, columns=words)\n",
        "plt.figure(figsize=(8, 8))\n",
        "sn.heatmap(df_cm, annot=True, cbar=False, cmap='Oranges')\n",
        "plt.xlabel('True labels', fontsize=16)\n",
        "plt.xticks(fontsize=15)\n",
        "plt.ylabel('Predicted labels', fontsize=16)\n",
        "plt.yticks(fontsize=15);\n"
      ],
      "execution_count": 31,
      "outputs": [
        {
          "output_type": "display_data",
          "data": {
            "image/png": "[encoded data removed]",
            "text/plain": [
              "<Figure size 576x576 with 1 Axes>"
            ]
          },
          "metadata": {
            "tags": [],
            "needs_background": "light"
          }
        }
      ]
    },
    {
      "cell_type": "code",
      "metadata": {
        "id": "ArN6iGXUy2k3",
        "outputId": "78d7122e-12e2-4092-d954-ada75b59e953",
        "colab": {
          "base_uri": "https://localhost:8080/",
          "height": 34
        }
      },
      "source": [
        "mm = []\n",
        "for i in range(3):\n",
        "    mm.append([])\n",
        "    for j in range(3):\n",
        "        mm[-1].append(np.sum(m[5*i:5*(i+1), 5*j:5*(j+1)]))\n",
        "mm"
      ],
      "execution_count": 32,
      "outputs": [
        {
          "output_type": "execute_result",
          "data": {
            "text/plain": [
              "[[18, 1, 1], [3, 17, 0], [0, 0, 20]]"
            ]
          },
          "metadata": {
            "tags": []
          },
          "execution_count": 32
        }
      ]
    },
    {
      "cell_type": "code",
      "metadata": {
        "id": "WvFt_AB5iY-l",
        "outputId": "e1c97f8f-dffd-4f9b-f002-c0ac6e08d415",
        "colab": {
          "base_uri": "https://localhost:8080/",
          "height": 306
        }
      },
      "source": [
        "q = pd.DataFrame(mm, index=['Тварини', 'Птахи', 'Їжа'], columns=['Тварини', 'Птахи', 'Їжа'])\n",
        "plt.figure(figsize=(4, 4))\n",
        "sn.heatmap(q, annot=True, cbar=False, cmap='Oranges', annot_kws={\"size\": 16})\n",
        "plt.xlabel('True labels', fontsize=16)\n",
        "plt.xticks(fontsize=15)\n",
        "plt.ylabel('Predicted labels', fontsize=16)\n",
        "plt.yticks(fontsize=15)"
      ],
      "execution_count": 33,
      "outputs": [
        {
          "output_type": "execute_result",
          "data": {
            "text/plain": [
              "(array([0.5, 1.5, 2.5]), <a list of 3 Text major ticklabel objects>)"
            ]
          },
          "metadata": {
            "tags": []
          },
          "execution_count": 33
        },
        {
          "output_type": "display_data",
          "data": {
            "image/png": "[encoded data removed]",
            "text/plain": [
              "<Figure size 288x288 with 1 Axes>"
            ]
          },
          "metadata": {
            "tags": [],
            "needs_background": "light"
          }
        }
      ]
    },
    {
      "cell_type": "code",
      "metadata": {
        "id": "s94_KB5hidz9"
      },
      "source": [
        ""
      ],
      "execution_count": null,
      "outputs": []
    }
  ]
}