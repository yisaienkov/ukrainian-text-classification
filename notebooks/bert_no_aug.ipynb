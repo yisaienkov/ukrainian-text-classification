{
  "nbformat": 4,
  "nbformat_minor": 0,
  "metadata": {
    "colab": {
      "name": "bert_no_aug",
      "provenance": [],
      "collapsed_sections": []
    },
    "kernelspec": {
      "name": "python3",
      "display_name": "Python 3"
    },
    "accelerator": "GPU"
  },
  "cells": [
    {
      "cell_type": "code",
      "metadata": {
        "id": "LeV7c3i0Nbma"
      },
      "source": [
        "!wget -O bert.tar.gz https://tfhub.dev/tensorflow/bert_multi_cased_L-12_H-768_A-12/2?tf-hub-format=compressed\n",
        "\n",
        "!tar -xf bert.tar.gz -C ./bert"
      ],
      "execution_count": 2,
      "outputs": []
    },
    {
      "cell_type": "code",
      "metadata": {
        "id": "Jd-YygYiMGSP",
        "outputId": "5edc94e6-e1c3-4b8b-a78f-4b994e5f836e",
        "colab": {
          "base_uri": "https://localhost:8080/",
          "height": 289
        }
      },
      "source": [
        "!wget https://raw.githubusercontent.com/tensorflow/models/master/official/nlp/bert/tokenization.py\n",
        "\n",
        "!pip install sentencepiece"
      ],
      "execution_count": 6,
      "outputs": [
        {
          "output_type": "stream",
          "text": [
            "--2020-10-14 16:14:43--  https://raw.githubusercontent.com/tensorflow/models/master/official/nlp/bert/tokenization.py\n",
            "Resolving raw.githubusercontent.com (raw.githubusercontent.com)... 151.101.0.133, 151.101.64.133, 151.101.128.133, ...\n",
            "Connecting to raw.githubusercontent.com (raw.githubusercontent.com)|151.101.0.133|:443... connected.\n",
            "HTTP request sent, awaiting response... 200 OK\n",
            "Length: 16781 (16K) [text/plain]\n",
            "Saving to: ‘tokenization.py.1’\n",
            "\n",
            "\rtokenization.py.1     0%[                    ]       0  --.-KB/s               \rtokenization.py.1   100%[===================>]  16.39K  --.-KB/s    in 0.005s  \n",
            "\n",
            "2020-10-14 16:14:43 (3.38 MB/s) - ‘tokenization.py.1’ saved [16781/16781]\n",
            "\n",
            "Collecting sentencepiece\n",
            "\u001b[?25l  Downloading https://files.pythonhosted.org/packages/d4/a4/d0a884c4300004a78cca907a6ff9a5e9fe4f090f5d95ab341c53d28cbc58/sentencepiece-0.1.91-cp36-cp36m-manylinux1_x86_64.whl (1.1MB)\n",
            "\u001b[K     |████████████████████████████████| 1.1MB 6.9MB/s \n",
            "\u001b[?25hInstalling collected packages: sentencepiece\n",
            "Successfully installed sentencepiece-0.1.91\n"
          ],
          "name": "stdout"
        }
      ]
    },
    {
      "cell_type": "code",
      "metadata": {
        "id": "KBI23E89Mt_w"
      },
      "source": [
        "import os\n",
        "import random\n",
        "\n",
        "import numpy as np\n",
        "import pandas as pd\n",
        "import tensorflow_hub as hub\n",
        "import tensorflow as tf\n",
        "from tensorflow.keras import layers, models, callbacks\n",
        "import tensorflow.keras.backend as K\n",
        "import tokenization\n",
        "from sklearn import preprocessing, metrics\n",
        "import matplotlib.pyplot as plt\n",
        "import seaborn as sn"
      ],
      "execution_count": 1,
      "outputs": []
    },
    {
      "cell_type": "code",
      "metadata": {
        "id": "8h1-hLym1SDc"
      },
      "source": [
        "seed = 42\n",
        "random.seed(seed)\n",
        "np.random.seed(seed)\n",
        "os.environ['PYTHONHASHSEED'] = str(seed)\n",
        "tf.random.set_seed(seed)"
      ],
      "execution_count": 2,
      "outputs": []
    },
    {
      "cell_type": "code",
      "metadata": {
        "id": "Dz1JLtccR9mg"
      },
      "source": [
        "MAX_SEQUENCE_LENGTH = 128"
      ],
      "execution_count": 3,
      "outputs": []
    },
    {
      "cell_type": "code",
      "metadata": {
        "id": "6gsHCQIpNszV"
      },
      "source": [
        "tokenizer = tokenization.FullTokenizer('bert/assets/vocab.txt', True)"
      ],
      "execution_count": 4,
      "outputs": []
    },
    {
      "cell_type": "code",
      "metadata": {
        "id": "GBXUp1NyP-xP",
        "outputId": "bf9ab059-45a6-4817-faf1-35e80787d1ba",
        "colab": {
          "base_uri": "https://localhost:8080/",
          "height": 34
        }
      },
      "source": [
        "data = pd.read_csv('index.csv', index_col=0)\n",
        "print(data.shape)\n",
        "# data_aug = pd.read_csv('resources/data_augment_ua_en_cn_en_ua.csv', index_col=0)\n",
        "# print(data_aug.shape)\n",
        "# data = pd.concat([data, data_aug])\n",
        "# print(data.shape)\n",
        "# data.head()"
      ],
      "execution_count": 5,
      "outputs": [
        {
          "output_type": "stream",
          "text": [
            "(165, 3)\n"
          ],
          "name": "stdout"
        }
      ]
    },
    {
      "cell_type": "code",
      "metadata": {
        "id": "toBqebz9RO7v"
      },
      "source": [
        "data['descr'] = data['description'].str.replace(\"’\", \"'\")"
      ],
      "execution_count": 6,
      "outputs": []
    },
    {
      "cell_type": "code",
      "metadata": {
        "id": "LmUFrSMLZ30S"
      },
      "source": [
        "train_data = data[data['user'] <= 5].copy()\n",
        "valid_data = data[(data['user'] >= 6) & (data['user'] <= 7)].copy()\n",
        "test_data = data[data['user'] > 7].copy()"
      ],
      "execution_count": 7,
      "outputs": []
    },
    {
      "cell_type": "code",
      "metadata": {
        "id": "XsXplBbBSb9U"
      },
      "source": [
        "def _get_masks(tokens, max_seq_length):\n",
        "    return [1] * len(tokens) + [0] * (max_seq_length - len(tokens))\n",
        "\n",
        "def _get_segments(tokens, max_seq_length):\n",
        "    return [1] * len(tokens) + [0] * (max_seq_length - len(tokens))\n",
        "\n",
        "def _get_ids(tokens, tokenizer, max_seq_length):\n",
        "    token_ids = tokenizer.convert_tokens_to_ids(tokens)\n",
        "    input_ids = token_ids + [0] * (max_seq_length - len(token_ids))\n",
        "    return input_ids\n",
        "\n",
        "def _convert_to_bert_inputs(t, tokenizer, max_sequence_length):\n",
        "    stoken = [\"[CLS]\"] + t + [\"[SEP]\"]\n",
        "    input_ids = _get_ids(stoken, tokenizer, max_sequence_length)\n",
        "    input_masks = _get_masks(stoken, max_sequence_length)\n",
        "    input_segments = _get_segments(stoken, max_sequence_length)\n",
        "    return [input_ids, input_masks, input_segments]\n",
        "\n",
        "def compute_bert_input_arrays(rows, tokenizer, max_sequence_length):\n",
        "    input_ids, input_masks, input_segments = [], [], []\n",
        "    for row in rows:\n",
        "        t = tokenizer.tokenize(row)\n",
        "        ids, masks, segments = _convert_to_bert_inputs(t, tokenizer, max_sequence_length)\n",
        "        input_ids.append(ids)\n",
        "        input_masks.append(masks)\n",
        "        input_segments.append(segments)\n",
        "    return [np.asarray(input_ids, dtype=np.int32), \n",
        "            np.asarray(input_masks, dtype=np.int32), \n",
        "            np.asarray(input_segments, dtype=np.int32)]\n"
      ],
      "execution_count": 8,
      "outputs": []
    },
    {
      "cell_type": "code",
      "metadata": {
        "id": "Fb2oAf5faQpl"
      },
      "source": [
        "words = [\n",
        "    'кінь', 'зебра', 'корова', 'ведмідь', 'олень', \n",
        "    'страус', 'курка', 'пінгвін', 'сова', 'лебідь', \n",
        "    'морквина', 'яблуко', 'банан', 'картопля', 'лимон'\n",
        "]"
      ],
      "execution_count": 9,
      "outputs": []
    },
    {
      "cell_type": "code",
      "metadata": {
        "id": "F8-4Ibe9aDw6"
      },
      "source": [
        "def get_X_y(data, train=1):\n",
        "    X = compute_bert_input_arrays(data['descr'].values, tokenizer, MAX_SEQUENCE_LENGTH)\n",
        "    y = data['word'].apply(lambda x: words.index(x))\n",
        "    return X, y"
      ],
      "execution_count": 10,
      "outputs": []
    },
    {
      "cell_type": "code",
      "metadata": {
        "id": "2IwLhL5saLq2"
      },
      "source": [
        "X_train, y_train = get_X_y(train_data, 1)\n",
        "X_valid, y_valid = get_X_y(valid_data, 1)\n",
        "X_test, y_test = get_X_y(test_data, 0)"
      ],
      "execution_count": 11,
      "outputs": []
    },
    {
      "cell_type": "code",
      "metadata": {
        "id": "KZtJV7wgQ-3-",
        "outputId": "a3e10be6-dbbb-4127-dc45-514bcf8cdd0f",
        "colab": {
          "base_uri": "https://localhost:8080/",
          "height": 459
        }
      },
      "source": [
        "def create_model():\n",
        "    input_ids = layers.Input((MAX_SEQUENCE_LENGTH,), dtype=tf.int32, name='input_ids')\n",
        "    input_masks = layers.Input((MAX_SEQUENCE_LENGTH,), dtype=tf.int32, name='input_masks')\n",
        "    input_segments = layers.Input((MAX_SEQUENCE_LENGTH,), dtype=tf.int32, name='input_segments')\n",
        "    bert_layer = hub.KerasLayer('./bert', trainable=False)\n",
        "    bert_merged_x, sequence_output = bert_layer([input_ids, input_masks, input_segments])\n",
        "    x = tf.keras.layers.GlobalAveragePooling1D()(sequence_output)\n",
        "    x = tf.keras.layers.Dense(128, activation='relu')(x)\n",
        "    x = tf.keras.layers.Dropout(0.5)(x)\n",
        "    out = layers.Dense(15, activation=\"softmax\")(x)\n",
        "\n",
        "    model = models.Model(\n",
        "        inputs = [\n",
        "            input_ids, \n",
        "            input_masks, \n",
        "            input_segments\n",
        "        ], \n",
        "        outputs = out)\n",
        "    \n",
        "    model.compile(\n",
        "        loss='sparse_categorical_crossentropy', \n",
        "        optimizer='adam', \n",
        "        metrics=['accuracy']\n",
        "    )\n",
        "    return model\n",
        "\n",
        "model = create_model()\n",
        "model.summary()"
      ],
      "execution_count": 12,
      "outputs": [
        {
          "output_type": "stream",
          "text": [
            "Model: \"functional_1\"\n",
            "__________________________________________________________________________________________________\n",
            "Layer (type)                    Output Shape         Param #     Connected to                     \n",
            "==================================================================================================\n",
            "input_ids (InputLayer)          [(None, 128)]        0                                            \n",
            "__________________________________________________________________________________________________\n",
            "input_masks (InputLayer)        [(None, 128)]        0                                            \n",
            "__________________________________________________________________________________________________\n",
            "input_segments (InputLayer)     [(None, 128)]        0                                            \n",
            "__________________________________________________________________________________________________\n",
            "keras_layer (KerasLayer)        [(None, 768), (None, 177853441   input_ids[0][0]                  \n",
            "                                                                 input_masks[0][0]                \n",
            "                                                                 input_segments[0][0]             \n",
            "__________________________________________________________________________________________________\n",
            "global_average_pooling1d (Globa (None, 768)          0           keras_layer[0][1]                \n",
            "__________________________________________________________________________________________________\n",
            "dense (Dense)                   (None, 128)          98432       global_average_pooling1d[0][0]   \n",
            "__________________________________________________________________________________________________\n",
            "dropout (Dropout)               (None, 128)          0           dense[0][0]                      \n",
            "__________________________________________________________________________________________________\n",
            "dense_1 (Dense)                 (None, 15)           1935        dropout[0][0]                    \n",
            "==================================================================================================\n",
            "Total params: 177,953,808\n",
            "Trainable params: 100,367\n",
            "Non-trainable params: 177,853,441\n",
            "__________________________________________________________________________________________________\n"
          ],
          "name": "stdout"
        }
      ]
    },
    {
      "cell_type": "code",
      "metadata": {
        "id": "QGWipM3aRMK9",
        "outputId": "068f0714-e549-4131-98cf-8e5bac364b5a",
        "colab": {
          "base_uri": "https://localhost:8080/",
          "height": 1000
        }
      },
      "source": [
        "check_save = callbacks.ModelCheckpoint(\n",
        "    'resources/model_augment_ua_en_cn_en_ua_{epoch:02d}.hdf5',\n",
        "     monitor='val_loss', \n",
        "     verbose=1, \n",
        "     save_best_only=True,\n",
        "     save_weights_only=True, \n",
        ")\n",
        "\n",
        "history = model.fit(\n",
        "    X_train, \n",
        "    y_train, \n",
        "    epochs=75, \n",
        "    validation_data=(X_valid, y_valid), \n",
        "    batch_size=8,\n",
        "    # callbacks=[check_save],\n",
        "    verbose=1\n",
        ")"
      ],
      "execution_count": 13,
      "outputs": [
        {
          "output_type": "stream",
          "text": [
            "Epoch 1/75\n",
            "10/10 [==============================] - 1s 124ms/step - loss: 2.7874 - accuracy: 0.1067 - val_loss: 2.6704 - val_accuracy: 0.0667\n",
            "Epoch 2/75\n",
            "10/10 [==============================] - 1s 57ms/step - loss: 2.6682 - accuracy: 0.0667 - val_loss: 2.5969 - val_accuracy: 0.1333\n",
            "Epoch 3/75\n",
            "10/10 [==============================] - 1s 57ms/step - loss: 2.6094 - accuracy: 0.1467 - val_loss: 2.5499 - val_accuracy: 0.1667\n",
            "Epoch 4/75\n",
            "10/10 [==============================] - 1s 57ms/step - loss: 2.4903 - accuracy: 0.1733 - val_loss: 2.4769 - val_accuracy: 0.2667\n",
            "Epoch 5/75\n",
            "10/10 [==============================] - 1s 57ms/step - loss: 2.3746 - accuracy: 0.2133 - val_loss: 2.4180 - val_accuracy: 0.3000\n",
            "Epoch 6/75\n",
            "10/10 [==============================] - 1s 57ms/step - loss: 2.3273 - accuracy: 0.3067 - val_loss: 2.3783 - val_accuracy: 0.2333\n",
            "Epoch 7/75\n",
            "10/10 [==============================] - 1s 57ms/step - loss: 2.2290 - accuracy: 0.2933 - val_loss: 2.3490 - val_accuracy: 0.2000\n",
            "Epoch 8/75\n",
            "10/10 [==============================] - 1s 56ms/step - loss: 2.0505 - accuracy: 0.4267 - val_loss: 2.2952 - val_accuracy: 0.2667\n",
            "Epoch 9/75\n",
            "10/10 [==============================] - 1s 57ms/step - loss: 2.0170 - accuracy: 0.4267 - val_loss: 2.2272 - val_accuracy: 0.4333\n",
            "Epoch 10/75\n",
            "10/10 [==============================] - 1s 56ms/step - loss: 1.8640 - accuracy: 0.4800 - val_loss: 2.1861 - val_accuracy: 0.3000\n",
            "Epoch 11/75\n",
            "10/10 [==============================] - 1s 58ms/step - loss: 1.8546 - accuracy: 0.4667 - val_loss: 2.1440 - val_accuracy: 0.3000\n",
            "Epoch 12/75\n",
            "10/10 [==============================] - 1s 57ms/step - loss: 1.7564 - accuracy: 0.5200 - val_loss: 2.0975 - val_accuracy: 0.3667\n",
            "Epoch 13/75\n",
            "10/10 [==============================] - 1s 57ms/step - loss: 1.7482 - accuracy: 0.5467 - val_loss: 2.0629 - val_accuracy: 0.3000\n",
            "Epoch 14/75\n",
            "10/10 [==============================] - 1s 57ms/step - loss: 1.7316 - accuracy: 0.4800 - val_loss: 2.0351 - val_accuracy: 0.3667\n",
            "Epoch 15/75\n",
            "10/10 [==============================] - 1s 56ms/step - loss: 1.6253 - accuracy: 0.5600 - val_loss: 2.0004 - val_accuracy: 0.3000\n",
            "Epoch 16/75\n",
            "10/10 [==============================] - 1s 56ms/step - loss: 1.4468 - accuracy: 0.6800 - val_loss: 1.9693 - val_accuracy: 0.4000\n",
            "Epoch 17/75\n",
            "10/10 [==============================] - 1s 57ms/step - loss: 1.5951 - accuracy: 0.5867 - val_loss: 1.9665 - val_accuracy: 0.4000\n",
            "Epoch 18/75\n",
            "10/10 [==============================] - 1s 56ms/step - loss: 1.4853 - accuracy: 0.6533 - val_loss: 1.9590 - val_accuracy: 0.3667\n",
            "Epoch 19/75\n",
            "10/10 [==============================] - 1s 57ms/step - loss: 1.3690 - accuracy: 0.7067 - val_loss: 1.9117 - val_accuracy: 0.4667\n",
            "Epoch 20/75\n",
            "10/10 [==============================] - 1s 57ms/step - loss: 1.3236 - accuracy: 0.6933 - val_loss: 1.8815 - val_accuracy: 0.3333\n",
            "Epoch 21/75\n",
            "10/10 [==============================] - 1s 57ms/step - loss: 1.2609 - accuracy: 0.6933 - val_loss: 1.8613 - val_accuracy: 0.3000\n",
            "Epoch 22/75\n",
            "10/10 [==============================] - 1s 57ms/step - loss: 1.3231 - accuracy: 0.6667 - val_loss: 1.8430 - val_accuracy: 0.5000\n",
            "Epoch 23/75\n",
            "10/10 [==============================] - 1s 57ms/step - loss: 1.1800 - accuracy: 0.7600 - val_loss: 1.8274 - val_accuracy: 0.3667\n",
            "Epoch 24/75\n",
            "10/10 [==============================] - 1s 57ms/step - loss: 1.2238 - accuracy: 0.6533 - val_loss: 1.7977 - val_accuracy: 0.4000\n",
            "Epoch 25/75\n",
            "10/10 [==============================] - 1s 57ms/step - loss: 1.1235 - accuracy: 0.7467 - val_loss: 1.7777 - val_accuracy: 0.3333\n",
            "Epoch 26/75\n",
            "10/10 [==============================] - 1s 57ms/step - loss: 1.1326 - accuracy: 0.6800 - val_loss: 1.7595 - val_accuracy: 0.4000\n",
            "Epoch 27/75\n",
            "10/10 [==============================] - 1s 57ms/step - loss: 1.0331 - accuracy: 0.7600 - val_loss: 1.7493 - val_accuracy: 0.4333\n",
            "Epoch 28/75\n",
            "10/10 [==============================] - 1s 57ms/step - loss: 0.9645 - accuracy: 0.8000 - val_loss: 1.7448 - val_accuracy: 0.3667\n",
            "Epoch 29/75\n",
            "10/10 [==============================] - 1s 56ms/step - loss: 0.9246 - accuracy: 0.8000 - val_loss: 1.7171 - val_accuracy: 0.4000\n",
            "Epoch 30/75\n",
            "10/10 [==============================] - 1s 57ms/step - loss: 0.9464 - accuracy: 0.8133 - val_loss: 1.6917 - val_accuracy: 0.4333\n",
            "Epoch 31/75\n",
            "10/10 [==============================] - 1s 57ms/step - loss: 0.8423 - accuracy: 0.8400 - val_loss: 1.6826 - val_accuracy: 0.4667\n",
            "Epoch 32/75\n",
            "10/10 [==============================] - 1s 57ms/step - loss: 0.9776 - accuracy: 0.7333 - val_loss: 1.6847 - val_accuracy: 0.4667\n",
            "Epoch 33/75\n",
            "10/10 [==============================] - 1s 56ms/step - loss: 0.7174 - accuracy: 0.9067 - val_loss: 1.6608 - val_accuracy: 0.4667\n",
            "Epoch 34/75\n",
            "10/10 [==============================] - 1s 57ms/step - loss: 0.8258 - accuracy: 0.8267 - val_loss: 1.6702 - val_accuracy: 0.4333\n",
            "Epoch 35/75\n",
            "10/10 [==============================] - 1s 57ms/step - loss: 0.8130 - accuracy: 0.8267 - val_loss: 1.6409 - val_accuracy: 0.4333\n",
            "Epoch 36/75\n",
            "10/10 [==============================] - 1s 57ms/step - loss: 0.7816 - accuracy: 0.8400 - val_loss: 1.6521 - val_accuracy: 0.3333\n",
            "Epoch 37/75\n",
            "10/10 [==============================] - 1s 57ms/step - loss: 0.7994 - accuracy: 0.8800 - val_loss: 1.6750 - val_accuracy: 0.4000\n",
            "Epoch 38/75\n",
            "10/10 [==============================] - 1s 57ms/step - loss: 0.8132 - accuracy: 0.8400 - val_loss: 1.6501 - val_accuracy: 0.4000\n",
            "Epoch 39/75\n",
            "10/10 [==============================] - 1s 57ms/step - loss: 0.7070 - accuracy: 0.8667 - val_loss: 1.6302 - val_accuracy: 0.5333\n",
            "Epoch 40/75\n",
            "10/10 [==============================] - 1s 56ms/step - loss: 0.7479 - accuracy: 0.8400 - val_loss: 1.5938 - val_accuracy: 0.4333\n",
            "Epoch 41/75\n",
            "10/10 [==============================] - 1s 57ms/step - loss: 0.6868 - accuracy: 0.8800 - val_loss: 1.5975 - val_accuracy: 0.4667\n",
            "Epoch 42/75\n",
            "10/10 [==============================] - 1s 57ms/step - loss: 0.5845 - accuracy: 0.9333 - val_loss: 1.5807 - val_accuracy: 0.5667\n",
            "Epoch 43/75\n",
            "10/10 [==============================] - 1s 57ms/step - loss: 0.5843 - accuracy: 0.8800 - val_loss: 1.5939 - val_accuracy: 0.4667\n",
            "Epoch 44/75\n",
            "10/10 [==============================] - 1s 57ms/step - loss: 0.5437 - accuracy: 0.9200 - val_loss: 1.5743 - val_accuracy: 0.5667\n",
            "Epoch 45/75\n",
            "10/10 [==============================] - 1s 57ms/step - loss: 0.5955 - accuracy: 0.9467 - val_loss: 1.5695 - val_accuracy: 0.5000\n",
            "Epoch 46/75\n",
            "10/10 [==============================] - 1s 58ms/step - loss: 0.6169 - accuracy: 0.8800 - val_loss: 1.5934 - val_accuracy: 0.5667\n",
            "Epoch 47/75\n",
            "10/10 [==============================] - 1s 57ms/step - loss: 0.5305 - accuracy: 0.8933 - val_loss: 1.5741 - val_accuracy: 0.5000\n",
            "Epoch 48/75\n",
            "10/10 [==============================] - 1s 58ms/step - loss: 0.5513 - accuracy: 0.9333 - val_loss: 1.5717 - val_accuracy: 0.5000\n",
            "Epoch 49/75\n",
            "10/10 [==============================] - 1s 57ms/step - loss: 0.5419 - accuracy: 0.8933 - val_loss: 1.5620 - val_accuracy: 0.5000\n",
            "Epoch 50/75\n",
            "10/10 [==============================] - 1s 57ms/step - loss: 0.5453 - accuracy: 0.9467 - val_loss: 1.5354 - val_accuracy: 0.5000\n",
            "Epoch 51/75\n",
            "10/10 [==============================] - 1s 57ms/step - loss: 0.4623 - accuracy: 0.9333 - val_loss: 1.5660 - val_accuracy: 0.5333\n",
            "Epoch 52/75\n",
            "10/10 [==============================] - 1s 57ms/step - loss: 0.5062 - accuracy: 0.8933 - val_loss: 1.5513 - val_accuracy: 0.5667\n",
            "Epoch 53/75\n",
            "10/10 [==============================] - 1s 57ms/step - loss: 0.5090 - accuracy: 0.9333 - val_loss: 1.5504 - val_accuracy: 0.5333\n",
            "Epoch 54/75\n",
            "10/10 [==============================] - 1s 57ms/step - loss: 0.3971 - accuracy: 0.9333 - val_loss: 1.5481 - val_accuracy: 0.5000\n",
            "Epoch 55/75\n",
            "10/10 [==============================] - 1s 56ms/step - loss: 0.4318 - accuracy: 0.9200 - val_loss: 1.5103 - val_accuracy: 0.5000\n",
            "Epoch 56/75\n",
            "10/10 [==============================] - 1s 57ms/step - loss: 0.4177 - accuracy: 0.9200 - val_loss: 1.5128 - val_accuracy: 0.5333\n",
            "Epoch 57/75\n",
            "10/10 [==============================] - 1s 57ms/step - loss: 0.4584 - accuracy: 0.9067 - val_loss: 1.5011 - val_accuracy: 0.5667\n",
            "Epoch 58/75\n",
            "10/10 [==============================] - 1s 58ms/step - loss: 0.3645 - accuracy: 0.9333 - val_loss: 1.4992 - val_accuracy: 0.4667\n",
            "Epoch 59/75\n",
            "10/10 [==============================] - 1s 57ms/step - loss: 0.3588 - accuracy: 0.9467 - val_loss: 1.4976 - val_accuracy: 0.5000\n",
            "Epoch 60/75\n",
            "10/10 [==============================] - 1s 58ms/step - loss: 0.4209 - accuracy: 0.9733 - val_loss: 1.5160 - val_accuracy: 0.5333\n",
            "Epoch 61/75\n",
            "10/10 [==============================] - 1s 57ms/step - loss: 0.4493 - accuracy: 0.9067 - val_loss: 1.5174 - val_accuracy: 0.5667\n",
            "Epoch 62/75\n",
            "10/10 [==============================] - 1s 57ms/step - loss: 0.3511 - accuracy: 0.9733 - val_loss: 1.5427 - val_accuracy: 0.4667\n",
            "Epoch 63/75\n",
            "10/10 [==============================] - 1s 57ms/step - loss: 0.3670 - accuracy: 0.9333 - val_loss: 1.5119 - val_accuracy: 0.5333\n",
            "Epoch 64/75\n",
            "10/10 [==============================] - 1s 57ms/step - loss: 0.4251 - accuracy: 0.9467 - val_loss: 1.4930 - val_accuracy: 0.5000\n",
            "Epoch 65/75\n",
            "10/10 [==============================] - 1s 57ms/step - loss: 0.4073 - accuracy: 0.9467 - val_loss: 1.4807 - val_accuracy: 0.5333\n",
            "Epoch 66/75\n",
            "10/10 [==============================] - 1s 57ms/step - loss: 0.3544 - accuracy: 0.9333 - val_loss: 1.5190 - val_accuracy: 0.5333\n",
            "Epoch 67/75\n",
            "10/10 [==============================] - 1s 57ms/step - loss: 0.4056 - accuracy: 0.8667 - val_loss: 1.5025 - val_accuracy: 0.5667\n",
            "Epoch 68/75\n",
            "10/10 [==============================] - 1s 57ms/step - loss: 0.3467 - accuracy: 0.9067 - val_loss: 1.5181 - val_accuracy: 0.5667\n",
            "Epoch 69/75\n",
            "10/10 [==============================] - 1s 57ms/step - loss: 0.3327 - accuracy: 0.9467 - val_loss: 1.5370 - val_accuracy: 0.5667\n",
            "Epoch 70/75\n",
            "10/10 [==============================] - 1s 56ms/step - loss: 0.3160 - accuracy: 0.9733 - val_loss: 1.5159 - val_accuracy: 0.5000\n",
            "Epoch 71/75\n",
            "10/10 [==============================] - 1s 57ms/step - loss: 0.2529 - accuracy: 0.9867 - val_loss: 1.5086 - val_accuracy: 0.5000\n",
            "Epoch 72/75\n",
            "10/10 [==============================] - 1s 59ms/step - loss: 0.3138 - accuracy: 0.9333 - val_loss: 1.5214 - val_accuracy: 0.5333\n",
            "Epoch 73/75\n",
            "10/10 [==============================] - 1s 57ms/step - loss: 0.2181 - accuracy: 1.0000 - val_loss: 1.5376 - val_accuracy: 0.5000\n",
            "Epoch 74/75\n",
            "10/10 [==============================] - 1s 57ms/step - loss: 0.3315 - accuracy: 0.9600 - val_loss: 1.4610 - val_accuracy: 0.5333\n",
            "Epoch 75/75\n",
            "10/10 [==============================] - 1s 57ms/step - loss: 0.2498 - accuracy: 0.9867 - val_loss: 1.4460 - val_accuracy: 0.5667\n"
          ],
          "name": "stdout"
        }
      ]
    },
    {
      "cell_type": "code",
      "metadata": {
        "id": "vASwEsgU3eoc",
        "outputId": "c88bc2ab-f9ae-4292-cd4e-80683253fe52",
        "colab": {
          "base_uri": "https://localhost:8080/",
          "height": 399
        }
      },
      "source": [
        "plt.figure(figsize=(15, 6))\n",
        "plt.subplot(1, 2, 1)\n",
        "plt.plot(history.history['loss'], color='red', label='train_loss')\n",
        "plt.plot(history.history['val_loss'], color='blue', label='valid_loss')\n",
        "plt.scatter([74], [1.4460], color='blue', s=200, label='best_epoch', marker='X')\n",
        "plt.legend(fontsize=15)\n",
        "plt.xticks(fontsize=14)\n",
        "plt.yticks(fontsize=14)\n",
        "plt.xlabel('epoch number', fontsize=15)\n",
        "plt.ylabel('loss', fontsize=15)\n",
        "plt.grid()\n",
        "plt.subplot(1, 2, 2)\n",
        "plt.plot(history.history['accuracy'], color='red', label='train_acc')\n",
        "plt.plot(history.history['val_accuracy'], color='blue', label='valid_acc')\n",
        "plt.scatter([74], [0.5667], color='blue', s=200, label='best_epoch', marker='X')\n",
        "plt.legend(fontsize=15)\n",
        "plt.legend(fontsize=15)\n",
        "plt.xticks(fontsize=14)\n",
        "plt.yticks(fontsize=14)\n",
        "plt.xlabel('epoch number', fontsize=15)\n",
        "plt.ylabel('accuarcy', fontsize=15)\n",
        "plt.ylim(0, 1.01)\n",
        "plt.grid()"
      ],
      "execution_count": 19,
      "outputs": [
        {
          "output_type": "display_data",
          "data": {
            "image/png": "[encoded data removed]",
            "text/plain": [
              "<Figure size 1080x432 with 2 Axes>"
            ]
          },
          "metadata": {
            "tags": [],
            "needs_background": "light"
          }
        }
      ]
    },
    {
      "cell_type": "code",
      "metadata": {
        "id": "lVCn-KW47-ha",
        "outputId": "9328e745-d0f9-429e-9aa2-c7dae24770d8",
        "colab": {
          "base_uri": "https://localhost:8080/",
          "height": 666
        }
      },
      "source": [
        "res = model.predict(X_test).argmax(axis=1)\n",
        "print(metrics.accuracy_score(y_test, res))\n",
        "m = metrics.confusion_matrix(y_test, res)\n",
        "df_cm = pd.DataFrame(m, index = words, columns = words)\n",
        "plt.figure(figsize = (10,10))\n",
        "sn.heatmap(df_cm, annot=True, cbar=False)"
      ],
      "execution_count": 15,
      "outputs": [
        {
          "output_type": "stream",
          "text": [
            "0.5833333333333334\n"
          ],
          "name": "stdout"
        },
        {
          "output_type": "execute_result",
          "data": {
            "text/plain": [
              "<matplotlib.axes._subplots.AxesSubplot at 0x7f204afefeb8>"
            ]
          },
          "metadata": {
            "tags": []
          },
          "execution_count": 15
        },
        {
          "output_type": "display_data",
          "data": {
            "image/png": "[encoded data removed]",
            "text/plain": [
              "<Figure size 720x720 with 1 Axes>"
            ]
          },
          "metadata": {
            "tags": [],
            "needs_background": "light"
          }
        }
      ]
    },
    {
      "cell_type": "code",
      "metadata": {
        "id": "k-8O5hVF8LJB",
        "outputId": "f22c6cba-d100-497d-b74b-426daa19c1a6",
        "colab": {
          "base_uri": "https://localhost:8080/",
          "height": 442
        }
      },
      "source": [
        "test_data['pred'] = res\n",
        "test_data['real'] = y_test\n",
        "no_ok = test_data[test_data['pred'] != test_data['real']]\n",
        "for i in range(no_ok.shape[0]):\n",
        "    print(no_ok.iloc[i]['descr'], '|', no_ok.iloc[i]['word'], '|', words[no_ok.iloc[i]['pred']])"
      ],
      "execution_count": 20,
      "outputs": [
        {
          "output_type": "stream",
          "text": [
            "Тварина, яка має гриву, але не кінь. | зебра | кінь\n",
            "Впадає в сплячку взимку, любить мед. | ведмідь | морквина\n",
            "Цим звіром нарікають людей, які чогось не розуміють. | олень | кінь\n",
            "Птах, який ховає голову в пісок. | страус | сова\n",
            "Домашня птиця, літає погано і недалеко. | курка | ведмідь\n",
            "Красивий, білий птах, переважно перебуває у воді. | лебідь | пінгвін\n",
            "Овоч, який дуже полюбляють зайці, конусної форми. | морквина | картопля\n",
            "Кислий, солодкий із кісточками всередині, корисно їсти зі шкіркою. | яблуко | банан\n",
            "Подовгуватий фрукт, який їдять в очищеному вигляді, без шкірки. | банан | картопля\n",
            "Жовтий, овальний на вигляд фрукт. | лимон | банан\n",
            "Парнокопитна тварина, дика, має чорно-білі смуги | зебра | олень\n",
            "Ховає голову в пісок | страус | кінь\n",
            "Чорно-біла птиця, живе на південному полюсі | пінгвін | зебра\n",
            "Фрукт, росте на деревах, дозріває вкінці літа, популярний сорт цього фрукта голден | яблуко | картопля\n",
            "великий птах, що не вміє літати, але може швидко бігати. Часто можна бачити в зоопарку. | страус | сова\n",
            "Птах що живе в лісі. Спить днем, вночі полює. | сова | пінгвін\n",
            "Довгий фрукт жовтого кольору, який дуже люблять мавпи. Має шкірку. | банан | морквина\n",
            "Дикий африканський смугастий (чорний, зі світло-жовтим) кінь. | зебра | лебідь\n",
            "Домашня молочна тварина, самка великої рогатої худоби, а також деяких інших рогатих тварин | корова | курка\n",
            "Великий хижий ссавець тварина з довгою шерстю і товстими ногами. | ведмідь | страус\n",
            "Найбільший бігучий (нелетючий) птах жарких країн з красивим оперенням. | страус | лебідь\n",
            "Велика водоплавна птиця з довгою зігнутою шиєю. | лебідь | ведмідь\n",
            "Городня рослина, овоч з їстівним солодкуватим помаранчевим потовщеним коренем. | морквина | картопля\n",
            "соковитий плід, який вживається в їжу в свіжому вигляді, є сировиною в кулінарії і для приготування напоїв. | яблуко | картопля\n",
            "фрукт з шкіркою. Колір шкірки може бути: жовтий, червоний, зелений або сріблястий. Що стосується м'якоті, то її забарвлення може бути білий, жовтий, кремовий або помаранчевий | банан | яблуко\n"
          ],
          "name": "stdout"
        }
      ]
    },
    {
      "cell_type": "code",
      "metadata": {
        "id": "byB6GEEu8cQ1"
      },
      "source": [
        ""
      ],
      "execution_count": null,
      "outputs": []
    }
  ]
}