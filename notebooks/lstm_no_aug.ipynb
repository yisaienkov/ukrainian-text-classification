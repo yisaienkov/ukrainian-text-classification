{
 "cells": [
  {
   "cell_type": "code",
   "execution_count": 1,
   "metadata": {
    "id": "C2T5T3MvsEX4"
   },
   "outputs": [],
   "source": [
    "import os\n",
    "import random\n",
    "import codecs\n",
    "\n",
    "import numpy as np\n",
    "import pandas as pd\n",
    "import seaborn as sn\n",
    "import tensorflow as tf\n",
    "from tensorflow.keras.preprocessing.text import Tokenizer\n",
    "from tensorflow.keras.preprocessing.sequence import pad_sequences\n",
    "from tensorflow.keras import callbacks\n",
    "from tensorflow.keras import optimizers\n",
    "from sklearn.feature_extraction import text as text_fe\n",
    "from sklearn import svm\n",
    "from sklearn import preprocessing\n",
    "from sklearn import model_selection\n",
    "from sklearn import metrics\n",
    "import matplotlib.pyplot as plt\n",
    "import tqdm"
   ]
  },
  {
   "cell_type": "code",
   "execution_count": 2,
   "metadata": {
    "id": "lhuTD-hJlHpn"
   },
   "outputs": [],
   "source": [
    "def set_seed(seed_value):\n",
    "    random.seed(seed_value)\n",
    "    np.random.seed(seed_value)\n",
    "    tf.random.set_seed(seed_value)\n",
    "    os.environ['PYTHONHASHSEED'] = str(seed_value)\n",
    "    os.environ['TF_DETERMINISTIC_OPS'] = 'true'\n",
    "    \n",
    "\n",
    "SEED = 42\n",
    "set_seed(SEED)"
   ]
  },
  {
   "cell_type": "code",
   "execution_count": 3,
   "metadata": {
    "id": "pJXeQOynsEYc"
   },
   "outputs": [],
   "source": [
    "words = [\n",
    "    'кінь', 'зебра', 'корова', 'ведмідь', 'олень', \n",
    "    'страус', 'курка', 'пінгвін', 'сова', 'лебідь', \n",
    "    'морквина', 'яблуко', 'банан', 'картопля', 'лимон'\n",
    "]"
   ]
  },
  {
   "cell_type": "code",
   "execution_count": 4,
   "metadata": {
    "id": "6buWTDPEsEYy"
   },
   "outputs": [],
   "source": [
    "uk_letters = set('абвгґдеєжзиіїйклмнопрстуфхцчшщьюя')"
   ]
  },
  {
   "cell_type": "markdown",
   "metadata": {
    "id": "ON2ugXejsEZA"
   },
   "source": [
    "# Load embedding"
   ]
  },
  {
   "cell_type": "code",
   "execution_count": 4,
   "metadata": {
    "colab": {
     "base_uri": "https://localhost:8080/",
     "height": 204
    },
    "id": "qRSDeOABvN9L",
    "outputId": "67ec0104-773e-46ff-a15b-1ae7f61dddb7"
   },
   "outputs": [
    {
     "name": "stdout",
     "output_type": "stream",
     "text": [
      "--2020-10-14 14:45:43--  https://dl.fbaipublicfiles.com/fasttext/vectors-wiki/wiki.uk.vec\n",
      "Resolving dl.fbaipublicfiles.com (dl.fbaipublicfiles.com)... 104.22.74.142, 104.22.75.142, 172.67.9.4, ...\n",
      "Connecting to dl.fbaipublicfiles.com (dl.fbaipublicfiles.com)|104.22.74.142|:443... connected.\n",
      "HTTP request sent, awaiting response... 200 OK\n",
      "Length: 2397609914 (2.2G) [binary/octet-stream]\n",
      "Saving to: ‘wiki.uk.vec’\n",
      "\n",
      "wiki.uk.vec         100%[===================>]   2.23G  12.6MB/s    in 3m 4s   \n",
      "\n",
      "2020-10-14 14:48:48 (12.5 MB/s) - ‘wiki.uk.vec’ saved [2397609914/2397609914]\n",
      "\n"
     ]
    }
   ],
   "source": [
    "!wget https://dl.fbaipublicfiles.com/fasttext/vectors-wiki/wiki.uk.vec"
   ]
  },
  {
   "cell_type": "code",
   "execution_count": 5,
   "metadata": {
    "colab": {
     "base_uri": "https://localhost:8080/",
     "height": 51
    },
    "id": "ClAlhI4MsEZE",
    "outputId": "787a7174-78e8-460a-c776-15aecc821a71"
   },
   "outputs": [
    {
     "name": "stderr",
     "output_type": "stream",
     "text": [
      "912461it [01:53, 8055.89it/s]"
     ]
    },
    {
     "name": "stdout",
     "output_type": "stream",
     "text": [
      "found 669366 word vectors\n"
     ]
    },
    {
     "name": "stderr",
     "output_type": "stream",
     "text": [
      "\n"
     ]
    }
   ],
   "source": [
    "embeddings_index = {}\n",
    "f = codecs.open('wiki.uk.vec', encoding='utf-8')\n",
    "for line in tqdm.tqdm(f):\n",
    "    values = line.rstrip().rsplit(' ')\n",
    "    word = values[0]\n",
    "    if not(set(word) - uk_letters):\n",
    "        coefs = np.asarray(values[1:], dtype='float32')\n",
    "        embeddings_index[word] = coefs\n",
    "f.close()\n",
    "print('found %s word vectors' % len(embeddings_index))"
   ]
  },
  {
   "cell_type": "markdown",
   "metadata": {
    "id": "wdTccoNVsEZY"
   },
   "source": [
    "# Create embedding matrix"
   ]
  },
  {
   "cell_type": "code",
   "execution_count": 6,
   "metadata": {
    "colab": {
     "base_uri": "https://localhost:8080/",
     "height": 34
    },
    "id": "PCXzLu60sEZc",
    "outputId": "83c674b9-d832-4ef5-c719-39e3d4c7531c"
   },
   "outputs": [
    {
     "name": "stdout",
     "output_type": "stream",
     "text": [
      "preparing embedding matrix...\n"
     ]
    }
   ],
   "source": [
    "print('preparing embedding matrix...')\n",
    "nb_words = len(embeddings_index) + 1\n",
    "all_word_list = ['<OOV>']\n",
    "embedding_matrix = np.zeros((nb_words, 300))\n",
    "for ind, (word, values) in enumerate(embeddings_index.items(), 1):\n",
    "    embedding_matrix[ind] = values\n",
    "    all_word_list.append(word)"
   ]
  },
  {
   "cell_type": "markdown",
   "metadata": {
    "id": "m3tujCR_sEZn"
   },
   "source": [
    "# Read and process data"
   ]
  },
  {
   "cell_type": "code",
   "execution_count": 23,
   "metadata": {
    "colab": {
     "base_uri": "https://localhost:8080/",
     "height": 34
    },
    "id": "cog5fiz0sEZp",
    "outputId": "219db0a0-088f-47e0-b7e1-9a11341a37ba"
   },
   "outputs": [
    {
     "name": "stdout",
     "output_type": "stream",
     "text": [
      "(165, 3)\n"
     ]
    }
   ],
   "source": [
    "data = pd.read_csv('index.csv', index_col=0)\n",
    "print(data.shape)\n",
    "# data_aug = pd.read_csv('resources/data_augment_ua_en_cn_en_ua.csv', index_col=0)\n",
    "# print(data_aug.shape)\n",
    "# data = pd.concat([data, data_aug])\n",
    "# print(data.shape)\n",
    "# data.head()"
   ]
  },
  {
   "cell_type": "code",
   "execution_count": 24,
   "metadata": {
    "id": "tXqMb9BasEZy"
   },
   "outputs": [],
   "source": [
    "data['description'] = data['description'].str.lower()\n",
    "data['description'] = data['description'].str.replace(\"’\", \"'\")\n",
    "data['description'] = data['description'].str.replace(\"'\", \"\")\n",
    "\n",
    "for s in '!\"#$%&()*+,./:;<=>?@[\\\\]^_`{|}~\\t\\n«»’':\n",
    "    data['description'] = data['description'].str.replace(s, \"\")\n",
    "for s in '-':\n",
    "    data['description'] = data['description'].str.replace(s, \" \")"
   ]
  },
  {
   "cell_type": "code",
   "execution_count": 25,
   "metadata": {
    "id": "VGKvQjX1sEaE"
   },
   "outputs": [],
   "source": [
    "train_data = data[data['user'] <= 5].copy()\n",
    "valid_data = data[(data['user'] >= 6) & (data['user'] <= 7)].copy()\n",
    "test_data = data[data['user'] > 7].copy()"
   ]
  },
  {
   "cell_type": "code",
   "execution_count": 26,
   "metadata": {
    "id": "0IYkUH8csEaV"
   },
   "outputs": [],
   "source": [
    "embedding_dim = 300\n",
    "max_length = 30\n",
    "trunc_type='post'\n",
    "padding_type='pre'"
   ]
  },
  {
   "cell_type": "markdown",
   "metadata": {
    "id": "ti-nAeHssEae"
   },
   "source": [
    "# Tokeize data"
   ]
  },
  {
   "cell_type": "code",
   "execution_count": 27,
   "metadata": {
    "id": "i2CCJceDsEag"
   },
   "outputs": [],
   "source": [
    "def get_X_y(data, train=1):\n",
    "    X = []\n",
    "    for row in data['description'].str.split():\n",
    "        X.append([])\n",
    "        for item in row:\n",
    "            try: \n",
    "                ind = all_word_list.index(item)\n",
    "            except:\n",
    "                print('Not in the tokenizer: ', item)\n",
    "                ind = 0\n",
    "            X[-1].append(ind)\n",
    "    X = np.array(X)\n",
    "    X = pad_sequences(X, padding=padding_type, maxlen=max_length)\n",
    "    if train:\n",
    "        y = data['word'].apply(lambda x: words.index(x))\n",
    "    else:\n",
    "        y = data['word'].apply(lambda x: words.index(x))\n",
    "    return X, y"
   ]
  },
  {
   "cell_type": "code",
   "execution_count": 28,
   "metadata": {
    "colab": {
     "base_uri": "https://localhost:8080/",
     "height": 510
    },
    "id": "qqptpcAIsEav",
    "outputId": "34f7830c-a6af-4f87-edef-c8bdf9f61589"
   },
   "outputs": [
    {
     "name": "stdout",
     "output_type": "stream",
     "text": [
      "Not in the tokenizer:  парнокопитної\n",
      "Not in the tokenizer:  подужче\n",
      "Not in the tokenizer:  півметровий\n",
      "Not in the tokenizer:  солодкувата\n",
      "Not in the tokenizer:  визріє\n",
      "Not in the tokenizer:  копитна\n",
      "Not in the tokenizer:  копитна\n",
      "Not in the tokenizer:  вимям\n",
      "Not in the tokenizer:  мичить\n",
      "Not in the tokenizer:  360\n",
      "Not in the tokenizer:  гичку\n",
      "Not in the tokenizer:  5\n",
      "Not in the tokenizer:  13\n",
      "Not in the tokenizer:  девятнадцятого\n",
      "Not in the tokenizer:  смуглястий\n",
      "Not in the tokenizer:  кудахкає\n",
      "Not in the tokenizer:  ниряє\n",
      "Not in the tokenizer:  перевальцем\n",
      "Not in the tokenizer:  кератином\n",
      "Not in the tokenizer:  підковують\n",
      "Not in the tokenizer:  подовгуватий\n",
      "Not in the tokenizer:  подовгастий\n",
      "Not in the tokenizer:  подовгуватий\n",
      "Not in the tokenizer:  360\n",
      "Not in the tokenizer:  парнокопитний\n",
      "Not in the tokenizer:  бігучий\n",
      "Not in the tokenizer:  нелетючий\n",
      "Not in the tokenizer:  мякоті\n",
      "Not in the tokenizer:  мякоттю\n"
     ]
    }
   ],
   "source": [
    "X_train, y_train = get_X_y(train_data, 1)\n",
    "X_valid, y_valid = get_X_y(valid_data, 1)\n",
    "X_test, y_test = get_X_y(test_data, 0)"
   ]
  },
  {
   "cell_type": "markdown",
   "metadata": {
    "id": "1h4qL2gNsEa2"
   },
   "source": [
    "# Build and train model"
   ]
  },
  {
   "cell_type": "code",
   "execution_count": 29,
   "metadata": {
    "colab": {
     "base_uri": "https://localhost:8080/",
     "height": 289
    },
    "id": "2si81PCNsEa4",
    "outputId": "e409770e-9237-45c3-b634-12c905aa734f"
   },
   "outputs": [
    {
     "name": "stdout",
     "output_type": "stream",
     "text": [
      "Model: \"sequential_1\"\n",
      "_________________________________________________________________\n",
      "Layer (type)                 Output Shape              Param #   \n",
      "=================================================================\n",
      "embedding_1 (Embedding)      (None, 30, 300)           200810100 \n",
      "_________________________________________________________________\n",
      "bidirectional_1 (Bidirection (None, 128)               186880    \n",
      "_________________________________________________________________\n",
      "dropout_1 (Dropout)          (None, 128)               0         \n",
      "_________________________________________________________________\n",
      "dense_1 (Dense)              (None, 15)                1935      \n",
      "=================================================================\n",
      "Total params: 200,998,915\n",
      "Trainable params: 188,815\n",
      "Non-trainable params: 200,810,100\n",
      "_________________________________________________________________\n"
     ]
    }
   ],
   "source": [
    "def create_model():\n",
    "    model = tf.keras.Sequential([\n",
    "        tf.keras.layers.Embedding(\n",
    "            nb_words, \n",
    "            300, \n",
    "            weights=[embedding_matrix], \n",
    "            input_length=max_length, \n",
    "            trainable=False\n",
    "        ),\n",
    "        tf.keras.layers.Bidirectional(\n",
    "            tf.keras.layers.LSTM(64)\n",
    "        ),\n",
    "        tf.keras.layers.Dropout(0.5),\n",
    "        tf.keras.layers.Dense(15, activation='softmax')\n",
    "    ])\n",
    "    model.compile(\n",
    "        loss='sparse_categorical_crossentropy', \n",
    "        optimizer='adam', \n",
    "        metrics=['accuracy']\n",
    "    )\n",
    "    return model\n",
    "\n",
    "model = create_model()\n",
    "model.summary()"
   ]
  },
  {
   "cell_type": "code",
   "execution_count": 30,
   "metadata": {
    "colab": {
     "base_uri": "https://localhost:8080/",
     "height": 1000
    },
    "id": "nP_9fhuasEa-",
    "outputId": "0e3da6d4-5aae-459f-aabd-1f5dce366630",
    "scrolled": true
   },
   "outputs": [
    {
     "name": "stdout",
     "output_type": "stream",
     "text": [
      "Epoch 1/30\n",
      "10/10 [==============================] - 1s 100ms/step - loss: 2.7528 - accuracy: 0.0800 - val_loss: 2.6771 - val_accuracy: 0.1000\n",
      "Epoch 2/30\n",
      "10/10 [==============================] - 0s 18ms/step - loss: 2.5837 - accuracy: 0.2000 - val_loss: 2.6398 - val_accuracy: 0.1333\n",
      "Epoch 3/30\n",
      "10/10 [==============================] - 0s 18ms/step - loss: 2.4667 - accuracy: 0.3067 - val_loss: 2.5801 - val_accuracy: 0.2000\n",
      "Epoch 4/30\n",
      "10/10 [==============================] - 0s 17ms/step - loss: 2.3095 - accuracy: 0.5067 - val_loss: 2.4834 - val_accuracy: 0.1667\n",
      "Epoch 5/30\n",
      "10/10 [==============================] - 0s 18ms/step - loss: 2.1393 - accuracy: 0.5867 - val_loss: 2.3341 - val_accuracy: 0.2667\n",
      "Epoch 6/30\n",
      "10/10 [==============================] - 0s 18ms/step - loss: 1.7451 - accuracy: 0.7733 - val_loss: 2.0879 - val_accuracy: 0.3333\n",
      "Epoch 7/30\n",
      "10/10 [==============================] - 0s 18ms/step - loss: 1.4740 - accuracy: 0.7467 - val_loss: 1.8966 - val_accuracy: 0.5000\n",
      "Epoch 8/30\n",
      "10/10 [==============================] - 0s 18ms/step - loss: 1.2271 - accuracy: 0.7867 - val_loss: 1.8311 - val_accuracy: 0.4000\n",
      "Epoch 9/30\n",
      "10/10 [==============================] - 0s 18ms/step - loss: 1.0336 - accuracy: 0.8400 - val_loss: 1.6594 - val_accuracy: 0.4667\n",
      "Epoch 10/30\n",
      "10/10 [==============================] - 0s 17ms/step - loss: 0.8255 - accuracy: 0.8800 - val_loss: 1.6197 - val_accuracy: 0.5000\n",
      "Epoch 11/30\n",
      "10/10 [==============================] - 0s 18ms/step - loss: 0.7108 - accuracy: 0.9200 - val_loss: 1.5118 - val_accuracy: 0.5000\n",
      "Epoch 12/30\n",
      "10/10 [==============================] - 0s 18ms/step - loss: 0.5906 - accuracy: 0.9067 - val_loss: 1.5353 - val_accuracy: 0.5000\n",
      "Epoch 13/30\n",
      "10/10 [==============================] - 0s 18ms/step - loss: 0.5006 - accuracy: 0.8933 - val_loss: 1.4064 - val_accuracy: 0.4667\n",
      "Epoch 14/30\n",
      "10/10 [==============================] - 0s 17ms/step - loss: 0.3278 - accuracy: 1.0000 - val_loss: 1.4044 - val_accuracy: 0.4667\n",
      "Epoch 15/30\n",
      "10/10 [==============================] - 0s 17ms/step - loss: 0.3759 - accuracy: 0.9333 - val_loss: 1.5527 - val_accuracy: 0.4333\n",
      "Epoch 16/30\n",
      "10/10 [==============================] - 0s 18ms/step - loss: 0.2932 - accuracy: 0.9733 - val_loss: 1.4028 - val_accuracy: 0.5667\n",
      "Epoch 17/30\n",
      "10/10 [==============================] - 0s 19ms/step - loss: 0.2291 - accuracy: 0.9867 - val_loss: 1.4143 - val_accuracy: 0.4667\n",
      "Epoch 18/30\n",
      "10/10 [==============================] - 0s 18ms/step - loss: 0.2161 - accuracy: 0.9733 - val_loss: 1.4429 - val_accuracy: 0.4000\n",
      "Epoch 19/30\n",
      "10/10 [==============================] - 0s 18ms/step - loss: 0.1767 - accuracy: 1.0000 - val_loss: 1.4558 - val_accuracy: 0.4667\n",
      "Epoch 20/30\n",
      "10/10 [==============================] - 0s 18ms/step - loss: 0.1345 - accuracy: 0.9867 - val_loss: 1.4013 - val_accuracy: 0.4667\n",
      "Epoch 21/30\n",
      "10/10 [==============================] - 0s 18ms/step - loss: 0.1283 - accuracy: 1.0000 - val_loss: 1.4592 - val_accuracy: 0.5000\n",
      "Epoch 22/30\n",
      "10/10 [==============================] - 0s 21ms/step - loss: 0.1036 - accuracy: 1.0000 - val_loss: 1.3760 - val_accuracy: 0.4333\n",
      "Epoch 23/30\n",
      "10/10 [==============================] - 0s 18ms/step - loss: 0.0713 - accuracy: 1.0000 - val_loss: 1.3509 - val_accuracy: 0.5000\n",
      "Epoch 24/30\n",
      "10/10 [==============================] - 0s 18ms/step - loss: 0.0813 - accuracy: 1.0000 - val_loss: 1.3933 - val_accuracy: 0.4667\n",
      "Epoch 25/30\n",
      "10/10 [==============================] - 0s 18ms/step - loss: 0.0884 - accuracy: 1.0000 - val_loss: 1.3886 - val_accuracy: 0.5333\n",
      "Epoch 26/30\n",
      "10/10 [==============================] - 0s 18ms/step - loss: 0.0913 - accuracy: 1.0000 - val_loss: 1.3499 - val_accuracy: 0.5000\n",
      "Epoch 27/30\n",
      "10/10 [==============================] - 0s 19ms/step - loss: 0.0573 - accuracy: 1.0000 - val_loss: 1.3400 - val_accuracy: 0.4667\n",
      "Epoch 28/30\n",
      "10/10 [==============================] - 0s 18ms/step - loss: 0.0809 - accuracy: 1.0000 - val_loss: 1.3700 - val_accuracy: 0.5000\n",
      "Epoch 29/30\n",
      "10/10 [==============================] - 0s 18ms/step - loss: 0.0402 - accuracy: 1.0000 - val_loss: 1.3660 - val_accuracy: 0.5333\n",
      "Epoch 30/30\n",
      "10/10 [==============================] - 0s 18ms/step - loss: 0.0395 - accuracy: 1.0000 - val_loss: 1.3733 - val_accuracy: 0.5000\n"
     ]
    }
   ],
   "source": [
    "checkpoint_save = callbacks.ModelCheckpoint(\n",
    "    'best-model.hdf5',\n",
    "     monitor='val_loss', \n",
    "     verbose=1, \n",
    "     save_best_only=True,\n",
    "     save_weights_only=False, \n",
    ")\n",
    "\n",
    "history = model.fit(\n",
    "    X_train, \n",
    "    y_train, \n",
    "    epochs=30, \n",
    "    validation_data=(X_valid, y_valid), \n",
    "    batch_size=8,\n",
    "    # callbacks=[\n",
    "    #     checkpoint_save,\n",
    "    # ],\n",
    "    verbose=1\n",
    ")"
   ]
  },
  {
   "cell_type": "code",
   "execution_count": 69,
   "metadata": {
    "colab": {
     "base_uri": "https://localhost:8080/",
     "height": 399
    },
    "id": "yqxktq67-9ki",
    "outputId": "b229546a-6a0d-4e22-a370-2f6e059af32a"
   },
   "outputs": [
    {
     "data": {
      "image/png": "[encoded data removed]",
      "text/plain": [
       "<Figure size 1080x432 with 2 Axes>"
      ]
     },
     "metadata": {
      "needs_background": "light",
      "tags": []
     },
     "output_type": "display_data"
    }
   ],
   "source": [
    "plt.figure(figsize=(15, 6))\n",
    "plt.subplot(1, 2, 1)\n",
    "plt.plot(history.history['loss'], color='red', label='train_loss')\n",
    "plt.plot(history.history['val_loss'], color='blue', label='valid_loss')\n",
    "plt.scatter([26], [1.35], color='blue', s=200, label='best_epoch', marker='X')\n",
    "plt.legend(fontsize=15)\n",
    "plt.xticks(fontsize=14)\n",
    "plt.yticks(fontsize=14)\n",
    "plt.xlabel('epoch number', fontsize=15)\n",
    "plt.ylabel('loss', fontsize=15)\n",
    "plt.grid()\n",
    "plt.subplot(1, 2, 2)\n",
    "plt.plot(history.history['accuracy'], color='red', label='train_acc')\n",
    "plt.plot(history.history['val_accuracy'], color='blue', label='valid_acc')\n",
    "plt.scatter([26], [0.4677], color='blue', s=200, label='best_epoch', marker='X')\n",
    "plt.legend(fontsize=15)\n",
    "plt.legend(fontsize=15)\n",
    "plt.xticks(fontsize=14)\n",
    "plt.yticks(fontsize=14)\n",
    "plt.xlabel('epoch number', fontsize=15)\n",
    "plt.ylabel('accuarcy', fontsize=15)\n",
    "plt.ylim(0, 1.01)\n",
    "plt.grid()"
   ]
  },
  {
   "cell_type": "markdown",
   "metadata": {
    "id": "uIeM7qgMsEbN"
   },
   "source": [
    "# Confusion matrix"
   ]
  },
  {
   "cell_type": "code",
   "execution_count": 36,
   "metadata": {
    "colab": {
     "base_uri": "https://localhost:8080/",
     "height": 666
    },
    "id": "IqrrrdfwsEbP",
    "outputId": "271a101a-de8b-4857-ecef-513834c86af5",
    "scrolled": false
   },
   "outputs": [
    {
     "name": "stdout",
     "output_type": "stream",
     "text": [
      "0.7333333333333333\n"
     ]
    },
    {
     "data": {
      "text/plain": [
       "<matplotlib.axes._subplots.AxesSubplot at 0x7f636f86acf8>"
      ]
     },
     "execution_count": 36,
     "metadata": {
      "tags": []
     },
     "output_type": "execute_result"
    },
    {
     "data": {
      "image/png": "[encoded data removed]",
      "text/plain": [
       "<Figure size 720x720 with 1 Axes>"
      ]
     },
     "metadata": {
      "needs_background": "light",
      "tags": []
     },
     "output_type": "display_data"
    }
   ],
   "source": [
    "res = model.predict(X_test).argmax(axis=1)\n",
    "print(metrics.accuracy_score(y_test, res))\n",
    "m = metrics.confusion_matrix(y_test, res)\n",
    "df_cm = pd.DataFrame(m, index = words, columns = words)\n",
    "plt.figure(figsize = (10,10))\n",
    "sn.heatmap(df_cm, annot=True, cbar=False)"
   ]
  },
  {
   "cell_type": "markdown",
   "metadata": {
    "id": "YsEWj4YCsEbV"
   },
   "source": [
    "# Not predicted data"
   ]
  },
  {
   "cell_type": "code",
   "execution_count": 38,
   "metadata": {
    "colab": {
     "base_uri": "https://localhost:8080/",
     "height": 289
    },
    "id": "Y03WGJvNsEbX",
    "outputId": "6c511ec3-b49d-46b5-f2e0-60e7a4df5242"
   },
   "outputs": [
    {
     "name": "stdout",
     "output_type": "stream",
     "text": [
      "тварина яка має гриву але не кінь | зебра | кінь\n",
      "цим звіром нарікають людей які чогось не розуміють | олень | ведмідь\n",
      "птах який живе на північному полюсі темно синього кольору з білим животом | пінгвін | зебра\n",
      "овоч який дуже полюбляють зайці конусної форми | морквина | картопля\n",
      "подовгуватий фрукт який їдять в очищеному вигляді без шкірки | банан | яблуко\n",
      "жовтий овальний на вигляд фрукт | лимон | банан\n",
      "дика всеїдна тварина може жити в лісі і мати коричневе хутро або на північному полюсі і мат біле хутро | ведмідь | лебідь\n",
      "зазвичай біла птиця з довгою шиєю часто ж символом кохання | лебідь | пінгвін\n",
      "великий птах що не вміє літати але може швидко бігати часто можна бачити в зоопарку | страус | пінгвін\n",
      "красивий птах білого кольору має довгу шию часто можна бачити в зоопарку | лебідь | страус\n",
      "великий хижий ссавець тварина з довгою шерстю і товстими ногами | ведмідь | олень\n",
      "найбільший бігучий нелетючий птах жарких країн з красивим оперенням | страус | сова\n",
      "велика водоплавна птиця з довгою зігнутою шиєю | лебідь | ведмідь\n",
      "городня рослина овоч з їстівним солодкуватим помаранчевим потовщеним коренем | морквина | картопля\n",
      "соковитий плід який вживається в їжу в свіжому вигляді є сировиною в кулінарії і для приготування напоїв | яблуко | картопля\n",
      "фрукт з шкіркою колір шкірки може бути жовтий червоний зелений або сріблястий що стосується мякоті то її забарвлення може бути білий жовтий кремовий або помаранчевий | банан | лебідь\n"
     ]
    }
   ],
   "source": [
    "test_data['pred'] = res\n",
    "test_data['real'] = y_test\n",
    "no_ok = test_data[test_data['pred'] != test_data['real']]\n",
    "for i in range(no_ok.shape[0]):\n",
    "    print(no_ok.iloc[i]['description'], '|', no_ok.iloc[i]['word'], '|', words[no_ok.iloc[i]['pred']])"
   ]
  },
  {
   "cell_type": "code",
   "execution_count": null,
   "metadata": {
    "id": "SzCKmu09sEbf"
   },
   "outputs": [],
   "source": []
  }
 ],
 "metadata": {
  "accelerator": "GPU",
  "colab": {
   "collapsed_sections": [],
   "name": "lstm_no_aug",
   "provenance": []
  },
  "kernelspec": {
   "display_name": "Python 3",
   "language": "python",
   "name": "python3"
  },
  "language_info": {
   "codemirror_mode": {
    "name": "ipython",
    "version": 3
   },
   "file_extension": ".py",
   "mimetype": "text/x-python",
   "name": "python",
   "nbconvert_exporter": "python",
   "pygments_lexer": "ipython3",
   "version": "3.7.5"
  }
 },
 "nbformat": 4,
 "nbformat_minor": 1
}
