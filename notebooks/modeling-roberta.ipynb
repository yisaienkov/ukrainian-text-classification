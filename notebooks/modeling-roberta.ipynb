{
 "cells": [
  {
   "cell_type": "code",
   "execution_count": 1,
   "metadata": {},
   "outputs": [],
   "source": [
    "import os\n",
    "import random\n",
    "\n",
    "import numpy as np\n",
    "import pandas as pd\n",
    "from transformers import AutoTokenizer, AutoModel, pipeline"
   ]
  },
  {
   "cell_type": "code",
   "execution_count": 15,
   "metadata": {},
   "outputs": [],
   "source": [
    "def load_model():\n",
    "    tokenizer = AutoTokenizer.from_pretrained('youscan/ukr-roberta-base')\n",
    "    model = AutoModel.from_pretrained('youscan/ukr-roberta-base')\n",
    "    return tokenizer, model\n",
    "\n",
    "tokenizer, model = load_model()"
   ]
  },
  {
   "cell_type": "code",
   "execution_count": 9,
   "metadata": {},
   "outputs": [],
   "source": [
    "def model_embedding(text, tokenizer, model):\n",
    "    input_ids = tokenizer(text, return_tensors=\"pt\")[\"input_ids\"]\n",
    "    outputs = model(input_ids, output_hidden_states=True)\n",
    "    emb = outputs[2]\n",
    "    emb = np.array([i[0].detach().numpy() for i in emb])[:]\n",
    "    emb = emb.mean(axis=(0, 1))\n",
    "    return emb"
   ]
  },
  {
   "cell_type": "code",
   "execution_count": 6,
   "metadata": {},
   "outputs": [],
   "source": [
    "def load_data():\n",
    "    data = pd.read_csv('../resources/data/data.csv', index_col=0)\n",
    "    data['descr'] = data['descr'].str.lower()\n",
    "    return data\n",
    "\n",
    "def train_test_split(data):\n",
    "    train_data = data[data['user'] <= 4].copy()\n",
    "    test_data = data[data['user'] > 4].copy()\n",
    "    return train_data, test_data\n",
    "\n",
    "data = load_data()\n",
    "train_data, test_data = train_test_split(data)"
   ]
  },
  {
   "cell_type": "code",
   "execution_count": 8,
   "metadata": {},
   "outputs": [],
   "source": [
    "labels_list = train_data['word'].values\n",
    "descriptions_list = train_data['descr'].values\n",
    "embeddings_list = {}"
   ]
  },
  {
   "cell_type": "code",
   "execution_count": 10,
   "metadata": {},
   "outputs": [],
   "source": [
    "for label, descr in zip(labels_list, descriptions_list):\n",
    "    tmp = embeddings_list.get(label, [])\n",
    "    tmp.append(model_embedding(descr, tokenizer, model))\n",
    "    embeddings_list[label] = tmp"
   ]
  },
  {
   "cell_type": "code",
   "execution_count": 11,
   "metadata": {},
   "outputs": [],
   "source": [
    "for label, embeddings in embeddings_list.items():\n",
    "    embeddings_list[label] = np.mean(embeddings, axis=0)"
   ]
  },
  {
   "cell_type": "code",
   "execution_count": 12,
   "metadata": {},
   "outputs": [],
   "source": [
    "test_labels_list = test_data['word'].values\n",
    "test_descriptions_list = test_data['descr'].values"
   ]
  },
  {
   "cell_type": "code",
   "execution_count": 13,
   "metadata": {},
   "outputs": [],
   "source": [
    "def distance(a, b):\n",
    "    return sum([(i - j) ** 2 for i, j in zip(a, b)]) ** .5"
   ]
  },
  {
   "cell_type": "code",
   "execution_count": 14,
   "metadata": {},
   "outputs": [
    {
     "name": "stdout",
     "output_type": "stream",
     "text": [
      "LABEL кінь\tDESCR: тварина, яку запрягають у віз, її силу прирівнюють до одиниць вимірювання міцності автомобілів.\n",
      "кінь кінь\n",
      "LABEL зебра\tDESCR: тварина, яка має гриву, але не кінь.\n",
      "зебра пінгвін\n",
      "LABEL корова\tDESCR: велика, рогата худоба.\n",
      "корова олень\n",
      "LABEL ведмідь\tDESCR: впадає в сплячку взимку, любить мед.\n",
      "ведмідь морквина\n",
      "LABEL олень\tDESCR: цим звіром нарікають людей, які чогось не розуміють.\n",
      "олень пінгвін\n",
      "LABEL страус\tDESCR: птах, який ховає голову в пісок.\n",
      "страус страус\n",
      "LABEL курка\tDESCR: домашня птиця, літає погано і недалеко.\n",
      "курка курка\n",
      "LABEL пінгвін\tDESCR: птах, який живе на північному полюсі, темно синього кольору з білим животом.\n",
      "пінгвін зебра\n",
      "LABEL сова\tDESCR: птах, полює на дрібних гризунів, переважно вночі.\n",
      "сова сова\n",
      "LABEL лебідь\tDESCR: красивий, білий птах, переважно перебуває у воді.\n",
      "лебідь сова\n",
      "LABEL морквина\tDESCR: овоч, який дуже полюбляють зайці, конусної форми.\n",
      "морквина морквина\n",
      "LABEL яблуко\tDESCR: кислий, солодкий із кісточками всередині, корисно їсти зі шкіркою.\n",
      "яблуко лимон\n",
      "LABEL банан\tDESCR: подовгуватий фрукт, який їдять в очищеному вигляді, без шкірки.\n",
      "банан морквина\n",
      "LABEL картопля\tDESCR: овоч, який споживають більшість людей, особливо в смаженому вигляді.\n",
      "картопля курка\n",
      "LABEL лимон\tDESCR: жовтий, овальний на вигляд фрукт.\n",
      "лимон банан\n",
      "LABEL кінь\tDESCR: парнокопитна тварина, одомашнена, допомагала людям в господарстві а також служила для швидшого пересування до винайдення машин\n",
      "кінь кінь\n",
      "LABEL зебра\tDESCR: парнокопитна тварина, дика, має чорно-білі смуги\n",
      "зебра зебра\n",
      "LABEL корова\tDESCR: парнокопитна, рогата, велика, тварина, одомашнена, дає молоко\n",
      "корова корова\n",
      "LABEL ведмідь\tDESCR: дика всеїдна тварина, може жити в лісі і мати коричневе хутро або на північному полюсі і мат біле хутро\n",
      "ведмідь ведмідь\n",
      "LABEL олень\tDESCR: парнокопитна дика тварина, має унікальні великі красиві роги які скидає раз на рік, використовує їх для битви з іншими самцями свого виду\n",
      "олень олень\n",
      "LABEL страус\tDESCR: ховає голову в пісок\n",
      "страус страус\n",
      "LABEL курка\tDESCR: домашня птиця, несе яйця\n",
      "курка курка\n",
      "LABEL пінгвін\tDESCR: чорно-біла птиця, живе на південному полюсі\n",
      "пінгвін зебра\n",
      "LABEL сова\tDESCR: дика хижа нічна птиця, може повертати голову на 360 градусів, полює на мишей та інших мілких тваринок\n",
      "сова ведмідь\n",
      "LABEL лебідь\tDESCR: зазвичай біла птиця, з довгою шиєю, часто ж символом кохання\n",
      "лебідь лебідь\n",
      "LABEL морквина\tDESCR: овоч помаранчевого кольору, довгий, росте в землі\n",
      "морквина морквина\n",
      "LABEL яблуко\tDESCR: фрукт, росте на деревах, дозріває вкінці літа, популярний сорт цього фрукта голден\n",
      "яблуко картопля\n",
      "LABEL банан\tDESCR: жовтий довгий фрукт, привозиться з теплих країн\n",
      "банан банан\n",
      "LABEL картопля\tDESCR: традиційний овоч білорусії\n",
      "картопля морквина\n",
      "LABEL лимон\tDESCR: кислий фрукт, жовтий, невеликого розміру\n",
      "лимон лимон\n",
      "LABEL кінь\tDESCR: тварина яку використовують для пересування. на нього одягають сідло або запрягають в карету.\n",
      "кінь страус\n",
      "LABEL зебра\tDESCR: тварина яке схоже на коня, але має білі і чорні смужки. часто можна побачити в зоопарку.\n",
      "зебра зебра\n",
      "LABEL корова\tDESCR: велика тварина, яку тримають для отримання молока. має біле забарвлення з чорними плямами.\n",
      "корова зебра\n",
      "LABEL ведмідь\tDESCR: велика небезпечна тварина, що живе в лісі. любить мед.\n",
      "ведмідь ведмідь\n",
      "LABEL олень\tDESCR: тварина, мешкає в лісі, має гарні великі роги.\n",
      "олень олень\n",
      "LABEL страус\tDESCR: великий птах, що не вміє літати, але може швидко бігати. часто можна бачити в зоопарку.\n",
      "страус страус\n",
      "LABEL курка\tDESCR: птах який тримають на фермі для виробництва яєць і м'яса.\n",
      "курка корова\n",
      "LABEL пінгвін\tDESCR: птах що не вміє літати. має чорно-біле забарвлення. живе в холодному кліматі.\n",
      "пінгвін пінгвін\n",
      "LABEL сова\tDESCR: птах що живе в лісі. спить днем, вночі полює.\n",
      "сова пінгвін\n",
      "LABEL лебідь\tDESCR: красивий птах білого кольору. має довгу шию. часто можна бачити в зоопарку.\n",
      "лебідь сова\n",
      "LABEL морквина\tDESCR: довгий овоч помаранчевого кольору. зростає в землі. його люблять зайчики.\n",
      "морквина морквина\n",
      "LABEL яблуко\tDESCR: один з найвідоміших фруктів. зростає на деревах. зазвичай червоного або зеленого кольору.\n",
      "яблуко морквина\n",
      "LABEL банан\tDESCR: довгий фрукт жовтого кольору, який дуже люблять мавпи. має шкірку.\n",
      "банан банан\n",
      "LABEL картопля\tDESCR: овоч, що росте в землі. коричневого кольору. з нього роблять пюре.\n",
      "картопля морквина\n",
      "LABEL лимон\tDESCR: цитрус, жовтого кольору. кислий і містить багато вітамін. часто додають в чай.\n",
      "лимон лимон\n",
      "LABEL кінь\tDESCR: тварина, супутник людини, засіб пересування і тяглова сила і помічник в сільгосп роботах і грізна військова сила\n",
      "кінь кінь\n",
      "LABEL зебра\tDESCR: дикий африканський смугастий (чорний, зі світло-жовтим) кінь.\n",
      "зебра зебра\n",
      "LABEL корова\tDESCR: домашня молочна тварина, самка великої рогатої худоби, а також деяких інших рогатих тварин\n",
      "корова олень\n",
      "LABEL ведмідь\tDESCR: великий хижий ссавець тварина з довгою шерстю і товстими ногами.\n",
      "ведмідь сова\n",
      "LABEL олень\tDESCR: жуйний парнокопитний ссавець з гіллястими рогами.\n",
      "олень олень\n",
      "LABEL страус\tDESCR: найбільший бігучий (нелетючий) птах жарких країн з красивим оперенням.\n",
      "страус сова\n",
      "LABEL курка\tDESCR: домашня птиця, самка півня.\n",
      "курка курка\n",
      "LABEL пінгвін\tDESCR: південна полярна птиця з короткими крилами яка вміє плавати, але не літає.\n",
      "пінгвін пінгвін\n",
      "LABEL сова\tDESCR: хижий нічний птах з великими очима і гачкуватим дзьобом\n",
      "сова сова\n",
      "LABEL лебідь\tDESCR: велика водоплавна птиця з довгою зігнутою шиєю.\n",
      "лебідь ведмідь\n",
      "LABEL морквина\tDESCR: городня рослина, овоч з їстівним солодкуватим помаранчевим потовщеним коренем.\n",
      "морквина морквина\n",
      "LABEL яблуко\tDESCR: соковитий плід, який вживається в їжу в свіжому вигляді, є сировиною в кулінарії і для приготування напоїв.\n",
      "яблуко курка\n",
      "LABEL банан\tDESCR: фрукт з шкіркою. колір шкірки може бути: жовтий, червоний, зелений або сріблястий. що стосується м'якоті, то її забарвлення може бути білий, жовтий, кремовий або помаранчевий\n",
      "банан яблуко\n",
      "LABEL картопля\tDESCR: рід овоча, рослина з їстівними бульбами, багатими крохмалем\n",
      "картопля картопля\n",
      "LABEL лимон\tDESCR: ароматний цитрус з твердою шкіркою і кислої на смак м'якоттю.\n",
      "лимон лимон\n",
      "0.55\n"
     ]
    }
   ],
   "source": [
    "t = 0\n",
    "pred_labels = []\n",
    "for ind in range(len(test_descriptions_list)):\n",
    "\n",
    "    label = test_labels_list[ind]\n",
    "    descr = test_descriptions_list[ind]\n",
    "    print(f'LABEL {label}\\tDESCR: {descr}')\n",
    "\n",
    "    test_emb = model_embedding(descr, tokenizer, model)\n",
    "\n",
    "    scores = list((distance(el, test_emb), k) for k, el in embeddings_list.items())\n",
    "    sorted_scores = sorted(scores, key=lambda x: x[0])\n",
    "    best_preds = sorted_scores[0][1]\n",
    "    print(label, best_preds)\n",
    "    pred_labels.append(best_preds)\n",
    "    if label == best_preds:\n",
    "        t += 1\n",
    "        \n",
    "print(t / len(test_descriptions_list))"
   ]
  },
  {
   "cell_type": "code",
   "execution_count": 17,
   "metadata": {},
   "outputs": [],
   "source": [
    "import joblib"
   ]
  },
  {
   "cell_type": "code",
   "execution_count": 22,
   "metadata": {},
   "outputs": [
    {
     "data": {
      "text/plain": [
       "['../resources/test.joblib']"
      ]
     },
     "execution_count": 22,
     "metadata": {},
     "output_type": "execute_result"
    }
   ],
   "source": [
    "joblib.dump(embeddings_list, '../resources/test.joblib')"
   ]
  }
 ],
 "metadata": {
  "kernelspec": {
   "display_name": "Python 3",
   "language": "python",
   "name": "python3"
  },
  "language_info": {
   "codemirror_mode": {
    "name": "ipython",
    "version": 3
   },
   "file_extension": ".py",
   "mimetype": "text/x-python",
   "name": "python",
   "nbconvert_exporter": "python",
   "pygments_lexer": "ipython3",
   "version": "3.7.5"
  }
 },
 "nbformat": 4,
 "nbformat_minor": 4
}
